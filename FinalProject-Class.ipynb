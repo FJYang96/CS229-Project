{
 "cells": [
  {
   "cell_type": "code",
   "execution_count": 1,
   "metadata": {},
   "outputs": [],
   "source": [
    "import data_utils as util\n",
    "import numpy as np\n",
    "from sklearn.model_selection import train_test_split\n",
    "from matplotlib import pyplot as plt\n",
    "from sklearn.metrics import mean_squared_error\n",
    "import pandas as pd\n",
    "import exp_util"
   ]
  },
  {
   "cell_type": "markdown",
   "metadata": {},
   "source": [
    "# data preprocessing"
   ]
  },
  {
   "cell_type": "code",
   "execution_count": 2,
   "metadata": {},
   "outputs": [],
   "source": [
    "#######################################################\n",
    "# Load the feature header\n",
    "#######################################################\n",
    "import csv\n",
    "\n",
    "# read the csv file\n",
    "feature_names = []\n",
    "with open('./data/header.csv') as f:\n",
    "    reader = csv.reader(f)\n",
    "    for line in reader:\n",
    "        feature_names.append(line)\n",
    "\n",
    "# Dirty tricks to clean up the feature names\n",
    "feature_names = feature_names[0]\n",
    "feature_names = list(map(lambda x: x.replace(' ', '_'), feature_names))\n",
    "feature_names[0] = 'PharmGKB_Subject_ID' # manual fix to remove a character in f...[0]"
   ]
  },
  {
   "cell_type": "code",
   "execution_count": 3,
   "metadata": {},
   "outputs": [],
   "source": [
    "####################################################################\n",
    "# Load the dataframe into X; clean up some unnecessary columns \n",
    "####################################################################\n",
    "\n",
    "# Load data and process column names\n",
    "df = pd.read_csv('./data/warfarin_with_dose.csv', names = feature_names)\n",
    "#keep_default_na=False)\n",
    "df.columns = [c.replace(' ', '_') for c in df.columns]\n",
    "\n",
    "# Extract the label (Warfarin dose) from the rest of the features\n",
    "y = df.Therapeutic_Dose_of_Warfarin\n",
    "X = df.drop('Therapeutic_Dose_of_Warfarin',axis=1)\n",
    "feature_names.remove('Therapeutic_Dose_of_Warfarin')\n",
    "\n",
    "# Drop Subject_ID (irrelevant) and Medication (different to encode)\n",
    "X = X.drop('PharmGKB_Subject_ID',axis=1)\n",
    "X = X.drop('Medications',axis=1)\n",
    "X = X.drop('Comorbidities',axis=1)\n",
    "feature_names.remove('PharmGKB_Subject_ID')\n",
    "feature_names.remove('Medications')\n",
    "feature_names.remove('Comorbidities')"
   ]
  },
  {
   "cell_type": "code",
   "execution_count": 4,
   "metadata": {},
   "outputs": [],
   "source": [
    "y = y>30 #this line converts labels to binary"
   ]
  },
  {
   "cell_type": "code",
   "execution_count": 5,
   "metadata": {},
   "outputs": [],
   "source": [
    "####################################################################\n",
    "# Encode different features with numeric/label/onehot encodings \n",
    "####################################################################\n",
    "numeric_features = ['Height_(cm)',\n",
    "                    'Weight_(kg)',\n",
    "                    'Target_INR',\n",
    "                    'INR_on_Reported_Therapeutic_Dose_of_Warfarin',\n",
    "                    ]\n",
    "label_features =   ['Age',\n",
    "                    'Estimated_Target_INR_Range_Based_on_Indication']\n",
    "categorical_features = [f for f in feature_names \\\n",
    "                        if f not in numeric_features and f not in label_features]\n",
    "\n",
    "for feat in categorical_features:\n",
    "    X[feat] = X[feat].astype(str)"
   ]
  },
  {
   "cell_type": "code",
   "execution_count": 6,
   "metadata": {
    "scrolled": true
   },
   "outputs": [],
   "source": [
    "from sklearn.compose import ColumnTransformer\n",
    "from sklearn.pipeline import Pipeline\n",
    "from sklearn.preprocessing import OrdinalEncoder, OneHotEncoder, StandardScaler\n",
    "from sklearn.impute import SimpleImputer\n",
    "\n",
    "# We create the preprocessing pipelines for both numeric and categorical data.\n",
    "numeric_transformer = Pipeline(steps=[\n",
    "    ('imputer', SimpleImputer(strategy='median')),\n",
    "    ('scaler', StandardScaler())])\n",
    "\n",
    "label_transformer = Pipeline(steps=[\n",
    "    ('imputer', SimpleImputer(strategy='constant', fill_value='0-missing')),\n",
    "    ('ordinal', OrdinalEncoder())])\n",
    "\n",
    "categorical_transformer = Pipeline(steps=[\n",
    "    ('imputer', SimpleImputer(strategy='constant', fill_value='missing')),\n",
    "    ('onehot', OneHotEncoder(handle_unknown='ignore',sparse=False))])\n",
    "\n",
    "preprocessor = ColumnTransformer(\n",
    "    transformers=[\n",
    "        ('num', numeric_transformer, numeric_features),\n",
    "        ('lab', label_transformer, label_features),\n",
    "        ('cat', categorical_transformer, categorical_features)]\n",
    ")\n"
   ]
  },
  {
   "cell_type": "code",
   "execution_count": 7,
   "metadata": {},
   "outputs": [],
   "source": [
    "X_transformed = preprocessor.fit_transform(X)"
   ]
  },
  {
   "cell_type": "code",
   "execution_count": 8,
   "metadata": {
    "scrolled": false
   },
   "outputs": [
    {
     "data": {
      "text/plain": [
       "(5528, 259)"
      ]
     },
     "execution_count": 8,
     "metadata": {},
     "output_type": "execute_result"
    }
   ],
   "source": [
    "X_transformed.shape"
   ]
  },
  {
   "cell_type": "markdown",
   "metadata": {},
   "source": [
    "# Train Validation Test Split"
   ]
  },
  {
   "cell_type": "code",
   "execution_count": 9,
   "metadata": {},
   "outputs": [],
   "source": [
    "# Split the data into train, val and test\n",
    "X_trainval, X_test, y_trainval, y_test = train_test_split(X_transformed, y, test_size=0.2, random_state=5)\n",
    "X_train, X_val, y_train, y_val = train_test_split(X_trainval, y_trainval, test_size = 0.2, random_state = 5)"
   ]
  },
  {
   "cell_type": "markdown",
   "metadata": {},
   "source": [
    "# Basic Regression Models"
   ]
  },
  {
   "cell_type": "code",
   "execution_count": null,
   "metadata": {},
   "outputs": [],
   "source": [
    "# Linear regression\n",
    "from sklearn.linear_model import LinearRegression\n",
    "\n",
    "lr_regressor = LinearRegression(fit_intercept = True)\n",
    "lr_regressor.fit(X_train, y_train)\n",
    "print(lr_regressor.score(X_val, y_val))\n",
    "print(lr_regressor.score(X_train, y_train))\n",
    "\n",
    "y_pred = lr_regressor.predict(X_val)\n",
    "print(mean_squared_error(y_val,y_pred))\n",
    "print(np.mean(y_val))\n",
    "coef = lr_regressor.coef_\n",
    "print(coef)"
   ]
  },
  {
   "cell_type": "markdown",
   "metadata": {},
   "source": [
    "## Understanding effect of regularization"
   ]
  },
  {
   "cell_type": "code",
   "execution_count": null,
   "metadata": {
    "scrolled": true
   },
   "outputs": [],
   "source": [
    "# Ridge Regression\n",
    "from sklearn.linear_model import Ridge\n",
    "\n",
    "#initialise arrays to store the scores \n",
    "ridge_score_train = np.zeros(7)\n",
    "ridge_score_val = np.zeros(7)\n",
    "\n",
    "for i, C in enumerate((1000,100,10,1, 0.1, 0.01,0.001)):\n",
    "    ridge_regressor = Ridge(alpha=1/C, fit_intercept = True)\n",
    "    ridge_regressor.fit(X_train,y_train)\n",
    "    ridge_score_train[i] = ridge_regressor.score(X_train,y_train)\n",
    "    ridge_score_val[i] = ridge_regressor.score(X_val,y_val)\n",
    "    \n",
    "print('training score \\n', ridge_score_train)\n",
    "print('validation score \\n', ridge_score_val)\n",
    "\n",
    "best_ridge = Ridge(alpha = 1, fit_intercept = True)\n",
    "best_ridge.fit(X_train,y_train)\n",
    "y_pred = best_ridge.predict(X_val)\n",
    "print(np.sqrt(mean_squared_error(y_val,y_pred)))\n",
    "# print(np.mean(y_val))\n",
    "\n",
    "# print(best_ridge.coef_)"
   ]
  },
  {
   "cell_type": "code",
   "execution_count": null,
   "metadata": {},
   "outputs": [],
   "source": [
    "# Ridge Regression\n",
    "from sklearn.linear_model import Ridge\n",
    "\n",
    "#initialise arrays to store the scores \n",
    "ridge_score_train = np.zeros(7)\n",
    "ridge_score_val = np.zeros(7)\n",
    "\n",
    "for i, C in enumerate((1000,100,10,1, 0.1, 0.01,0.001)):\n",
    "    ridge_regressor = Ridge(alpha=1/C, fit_intercept = True)\n",
    "    ridge_regressor.fit(X_train,y_train)\n",
    "    y_pred_train = ridge_regressor.predict(X_train)\n",
    "    y_pred_val = ridge_regressor.predict(X_val)\n",
    "\n",
    "    ridge_score_train[i] = np.sqrt(mean_squared_error(y_train,y_pred_train))\n",
    "    ridge_score_val[i] = np.sqrt(mean_squared_error(y_val,y_pred_val))\n",
    "    \n",
    "print('training score \\n', ridge_score_train)\n",
    "print('validation score \\n', ridge_score_val)\n",
    "\n",
    "# best_ridge = Ridge(alpha = 1, fit_intercept = True)\n",
    "# best_ridge.fit(X_train,y_train)\n",
    "# y_pred = best_ridge.predict(X_val)\n",
    "# print(np.sqrt(mean_squared_error(y_val,y_pred)))\n",
    "# # print(np.mean(y_val))\n",
    "\n",
    "# print(best_ridge.coef_)"
   ]
  },
  {
   "cell_type": "code",
   "execution_count": null,
   "metadata": {
    "scrolled": true
   },
   "outputs": [],
   "source": [
    "xaxis = [0.001,0.01,0.1,1,10,100,1000] #values of lambda used\n",
    "plt.plot(xaxis,ridge_score_train, label = 'training')\n",
    "plt.plot(xaxis,ridge_score_val, label = 'validation')\n",
    "plt.xlabel('lambda')\n",
    "plt.ylabel('RMSE')\n",
    "plt.legend()\n",
    "plt.xscale('log')\n",
    "plt.title('RMSE vs Lambda - Ridge Penalty')\n",
    "plt.savefig('Ridge_RMSE.png')"
   ]
  },
  {
   "cell_type": "code",
   "execution_count": null,
   "metadata": {
    "scrolled": true
   },
   "outputs": [],
   "source": [
    "# Lasso Regression\n",
    "from sklearn.linear_model import Lasso\n",
    "\n",
    "#initialise arrays to store the scores \n",
    "lasso_score_train = np.zeros(7)\n",
    "lasso_score_val = np.zeros(7)\n",
    "\n",
    "for i, C in enumerate((1000,100,10,1, 0.1, 0.01,0.001)):\n",
    "    lasso_regressor = Lasso(alpha=1/C, fit_intercept = True)\n",
    "    lasso_regressor.fit(X_train,y_train)\n",
    "    lasso_score_train[i] = lasso_regressor.score(X_train,y_train)\n",
    "    lasso_score_val[i] = lasso_regressor.score(X_val,y_val)\n",
    "    \n",
    "print('training score \\n', lasso_score_train)\n",
    "print('validation score \\n', lasso_score_val)\n",
    "\n",
    "best_lasso = Lasso(alpha = 0.01, fit_intercept = True)\n",
    "best_lasso.fit(X_train,y_train)\n",
    "y_pred = best_lasso.predict(X_val)\n",
    "print(np.sqrt(mean_squared_error(y_val,y_pred)))\n",
    "# print(np.mean(y_val))\n",
    "\n",
    "# print(best_lasso.coef_)"
   ]
  },
  {
   "cell_type": "code",
   "execution_count": null,
   "metadata": {},
   "outputs": [],
   "source": [
    "# Lasso Regression\n",
    "from sklearn.linear_model import Lasso\n",
    "\n",
    "#initialise arrays to store the scores \n",
    "lasso_score_train = np.zeros(7)\n",
    "lasso_score_val = np.zeros(7)\n",
    "\n",
    "for i, C in enumerate((1000,100,10,1, 0.1, 0.01,0.001)):\n",
    "    lasso_regressor = Lasso(alpha=1/C, fit_intercept = True)\n",
    "    lasso_regressor.fit(X_train,y_train)\n",
    "    y_pred_train = lasso_regressor.predict(X_train)\n",
    "    y_pred_val = lasso_regressor.predict(X_val)\n",
    "\n",
    "    lasso_score_train[i] = np.sqrt(mean_squared_error(y_train,y_pred_train))\n",
    "    lasso_score_val[i] = np.sqrt(mean_squared_error(y_val,y_pred_val))\n",
    "    \n",
    "print('training score \\n', ridge_score_train)\n",
    "print('validation score \\n', ridge_score_val)\n"
   ]
  },
  {
   "cell_type": "code",
   "execution_count": null,
   "metadata": {
    "scrolled": true
   },
   "outputs": [],
   "source": [
    "xaxis = [0.001,0.01,0.1,1,10,100,1000] #values of lambda used\n",
    "plt.plot(xaxis,lasso_score_train, label = 'training')\n",
    "plt.plot(xaxis,lasso_score_val, label = 'validation')\n",
    "plt.xlabel('lambda')\n",
    "plt.ylabel('RMSE')\n",
    "plt.legend()\n",
    "plt.xscale('log')\n",
    "plt.title('RMSE vs Lambda - Lasso Penalty')\n",
    "plt.savefig('Lasso_RMSE.png')"
   ]
  },
  {
   "cell_type": "markdown",
   "metadata": {},
   "source": [
    "# Results"
   ]
  },
  {
   "cell_type": "markdown",
   "metadata": {},
   "source": [
    "## Logistic Regression (baseline)"
   ]
  },
  {
   "cell_type": "code",
   "execution_count": 32,
   "metadata": {},
   "outputs": [
    {
     "name": "stdout",
     "output_type": "stream",
     "text": [
      "accuracy values\n",
      "[0.43841808 0.63050847 0.70960452 0.7480226  0.7819209  0.79548023\n",
      " 0.77740113 0.74915254 0.7039548  0.64519774 0.56158192]\n",
      "sensitivity values\n",
      "[1.         0.96649485 0.93814433 0.8814433  0.83505155 0.76804124\n",
      " 0.64690722 0.5257732  0.38402062 0.21907216 0.        ]\n",
      "specificity values\n",
      "[0.         0.36820926 0.53118712 0.64386318 0.74044266 0.81690141\n",
      " 0.87927565 0.92354125 0.95372233 0.9778672  1.        ]\n"
     ]
    },
    {
     "name": "stderr",
     "output_type": "stream",
     "text": [
      "C:\\Users\\zhiqi\\Anaconda3\\lib\\site-packages\\sklearn\\linear_model\\logistic.py:433: FutureWarning: Default solver will be changed to 'lbfgs' in 0.22. Specify a solver to silence this warning.\n",
      "  FutureWarning)\n",
      "C:\\Users\\zhiqi\\Anaconda3\\lib\\site-packages\\ipykernel_launcher.py:25: RuntimeWarning: invalid value encountered in longlong_scalars\n"
     ]
    }
   ],
   "source": [
    "# Logistic Regression (baseline)\n",
    "from sklearn.linear_model import LogisticRegression\n",
    "from sklearn.metrics import confusion_matrix, auc, roc_auc_score\n",
    "\n",
    "log_regressor = LogisticRegression()\n",
    "log_regressor.fit(X_train,y_train)\n",
    "\n",
    "#predict = log_regressor.predict(X_val) #this implements default threshold of 0.5\n",
    "\n",
    "threshold = np.arange(0,1.1,0.1)\n",
    "accuracy = np.zeros(len(threshold))\n",
    "sensitivity = np.zeros(len(threshold))\n",
    "specificity = np.zeros(len(threshold))\n",
    "precision = np.zeros(len(threshold))\n",
    "\n",
    "for i in range(len(threshold)):\n",
    "    \n",
    "    predict = (log_regressor.predict_proba(X_val)[:,1] >= threshold[i]).astype(int)\n",
    "\n",
    "    TN, FP, FN, TP = confusion_matrix(y_val,predict).ravel()\n",
    "\n",
    "    accuracy[i] = np.mean(predict == y_val)\n",
    "    sensitivity[i] = TP / (TP + FN)\n",
    "    specificity[i] = TN / (TN + FP)\n",
    "    precision[i] = TP / (TP + FP)\n",
    "\n",
    "recall = sensitivity.copy()\n",
    "\n",
    "print('accuracy values')\n",
    "print(accuracy)\n",
    "print('sensitivity values')\n",
    "print(sensitivity)\n",
    "print('specificity values')\n",
    "print(specificity)\n",
    "\n"
   ]
  },
  {
   "cell_type": "code",
   "execution_count": 33,
   "metadata": {},
   "outputs": [
    {
     "name": "stdout",
     "output_type": "stream",
     "text": [
      "auc\n",
      "0.857451409487855\n"
     ]
    },
    {
     "data": {
      "image/png": "[encoded data removed]",
      "text/plain": [
       "<Figure size 432x288 with 1 Axes>"
      ]
     },
     "metadata": {
      "needs_background": "light"
     },
     "output_type": "display_data"
    }
   ],
   "source": [
    "#note TPR = sensitivity, FPR = 1 - specificity\n",
    "#FPR is important because we want to avoid overdosing\n",
    "plt.plot(sensitivity, specificity)\n",
    "plt.xlabel('sensitivity = TPR')\n",
    "plt.ylabel('specificity = 1 - FPR')\n",
    "plt.title('ROC')\n",
    "plt.savefig('logreg_baseline_ROC.png')\n",
    "\n",
    "print('auc')\n",
    "print(auc(sensitivity,specificity)) #auc takes in arguments (x,y)"
   ]
  },
  {
   "cell_type": "markdown",
   "metadata": {},
   "source": [
    "# SVM Classifier"
   ]
  },
  {
   "cell_type": "code",
   "execution_count": null,
   "metadata": {},
   "outputs": [],
   "source": [
    "from sklearn.svm import SVC\n",
    "from sklearn.metrics import confusion_matrix, auc, roc_auc_score\n",
    "\n",
    "gamma = np.logspace(-5,1,7)\n",
    "accuracy = np.zeros(len(gamma))\n",
    "sensitivity = np.zeros(len(gamma))\n",
    "specificity = np.zeros(len(gamma))\n",
    "precision = np.zeros(len(gamma))\n",
    "\n",
    "for i in range(len(gamma)):\n",
    "    \n",
    "    SV_classifier = SVC(C = 0.1, gamma = gamma[i], kernel = 'rbf', random_state = 0)\n",
    "    SV_classifier.fit(X_train,y_train)\n",
    "\n",
    "    predict = SV_classifier.predict(X_val)\n",
    "\n",
    "    TN, FP, FN, TP = confusion_matrix(y_val,predict).ravel()\n",
    "\n",
    "    accuracy[i] = np.mean(predict == y_val)\n",
    "    sensitivity[i] = TP / (TP + FN)\n",
    "    specificity[i] = TN / (TN + FP)\n",
    "    precision[i] = TP / (TP + FP)\n",
    "\n",
    "recall = sensitivity.copy()\n",
    "\n",
    "print('accuracy values')\n",
    "print(accuracy)\n",
    "print('sensitivity values')\n",
    "print(sensitivity)\n",
    "print('specificity values')\n",
    "print(specificity)"
   ]
  },
  {
   "cell_type": "code",
   "execution_count": null,
   "metadata": {},
   "outputs": [],
   "source": [
    "plt.plot(gamma,accuracy, label = 'accuracy')\n",
    "plt.plot(gamma,sensitivity, label = 'sensitivity')\n",
    "plt.plot(gamma,specificity, label = 'specificity')\n",
    "plt.legend()\n",
    "plt.xscale('log')\n",
    "plt.xlabel('gamma')\n",
    "plt.savefig('SVM_classifier_C01.png')"
   ]
  },
  {
   "cell_type": "markdown",
   "metadata": {},
   "source": [
    "# Logistic Regression"
   ]
  },
  {
   "cell_type": "code",
   "execution_count": 13,
   "metadata": {},
   "outputs": [
    {
     "name": "stderr",
     "output_type": "stream",
     "text": [
      "C:\\Users\\zhiqi\\Anaconda3\\lib\\site-packages\\sklearn\\linear_model\\logistic.py:758: ConvergenceWarning: lbfgs failed to converge. Increase the number of iterations.\n",
      "  \"of iterations.\", ConvergenceWarning)\n",
      "C:\\Users\\zhiqi\\Anaconda3\\lib\\site-packages\\sklearn\\linear_model\\logistic.py:758: ConvergenceWarning: lbfgs failed to converge. Increase the number of iterations.\n",
      "  \"of iterations.\", ConvergenceWarning)\n",
      "C:\\Users\\zhiqi\\Anaconda3\\lib\\site-packages\\sklearn\\linear_model\\logistic.py:758: ConvergenceWarning: lbfgs failed to converge. Increase the number of iterations.\n",
      "  \"of iterations.\", ConvergenceWarning)\n",
      "C:\\Users\\zhiqi\\Anaconda3\\lib\\site-packages\\sklearn\\linear_model\\logistic.py:758: ConvergenceWarning: lbfgs failed to converge. Increase the number of iterations.\n",
      "  \"of iterations.\", ConvergenceWarning)\n",
      "C:\\Users\\zhiqi\\Anaconda3\\lib\\site-packages\\sklearn\\linear_model\\logistic.py:758: ConvergenceWarning: lbfgs failed to converge. Increase the number of iterations.\n",
      "  \"of iterations.\", ConvergenceWarning)\n",
      "C:\\Users\\zhiqi\\Anaconda3\\lib\\site-packages\\sklearn\\linear_model\\logistic.py:758: ConvergenceWarning: lbfgs failed to converge. Increase the number of iterations.\n",
      "  \"of iterations.\", ConvergenceWarning)\n",
      "C:\\Users\\zhiqi\\Anaconda3\\lib\\site-packages\\sklearn\\linear_model\\logistic.py:758: ConvergenceWarning: lbfgs failed to converge. Increase the number of iterations.\n",
      "  \"of iterations.\", ConvergenceWarning)\n",
      "C:\\Users\\zhiqi\\Anaconda3\\lib\\site-packages\\sklearn\\linear_model\\logistic.py:758: ConvergenceWarning: lbfgs failed to converge. Increase the number of iterations.\n",
      "  \"of iterations.\", ConvergenceWarning)\n",
      "C:\\Users\\zhiqi\\Anaconda3\\lib\\site-packages\\sklearn\\linear_model\\logistic.py:758: ConvergenceWarning: lbfgs failed to converge. Increase the number of iterations.\n",
      "  \"of iterations.\", ConvergenceWarning)\n",
      "C:\\Users\\zhiqi\\Anaconda3\\lib\\site-packages\\sklearn\\linear_model\\logistic.py:758: ConvergenceWarning: lbfgs failed to converge. Increase the number of iterations.\n",
      "  \"of iterations.\", ConvergenceWarning)\n",
      "C:\\Users\\zhiqi\\Anaconda3\\lib\\site-packages\\sklearn\\linear_model\\logistic.py:758: ConvergenceWarning: lbfgs failed to converge. Increase the number of iterations.\n",
      "  \"of iterations.\", ConvergenceWarning)\n",
      "C:\\Users\\zhiqi\\Anaconda3\\lib\\site-packages\\sklearn\\linear_model\\logistic.py:758: ConvergenceWarning: lbfgs failed to converge. Increase the number of iterations.\n",
      "  \"of iterations.\", ConvergenceWarning)\n",
      "C:\\Users\\zhiqi\\Anaconda3\\lib\\site-packages\\sklearn\\linear_model\\logistic.py:758: ConvergenceWarning: lbfgs failed to converge. Increase the number of iterations.\n",
      "  \"of iterations.\", ConvergenceWarning)\n",
      "C:\\Users\\zhiqi\\Anaconda3\\lib\\site-packages\\sklearn\\linear_model\\logistic.py:758: ConvergenceWarning: lbfgs failed to converge. Increase the number of iterations.\n",
      "  \"of iterations.\", ConvergenceWarning)\n",
      "C:\\Users\\zhiqi\\Anaconda3\\lib\\site-packages\\sklearn\\linear_model\\logistic.py:758: ConvergenceWarning: lbfgs failed to converge. Increase the number of iterations.\n",
      "  \"of iterations.\", ConvergenceWarning)\n",
      "C:\\Users\\zhiqi\\Anaconda3\\lib\\site-packages\\sklearn\\linear_model\\logistic.py:758: ConvergenceWarning: lbfgs failed to converge. Increase the number of iterations.\n",
      "  \"of iterations.\", ConvergenceWarning)\n",
      "C:\\Users\\zhiqi\\Anaconda3\\lib\\site-packages\\sklearn\\linear_model\\logistic.py:758: ConvergenceWarning: lbfgs failed to converge. Increase the number of iterations.\n",
      "  \"of iterations.\", ConvergenceWarning)\n",
      "C:\\Users\\zhiqi\\Anaconda3\\lib\\site-packages\\sklearn\\linear_model\\logistic.py:758: ConvergenceWarning: lbfgs failed to converge. Increase the number of iterations.\n",
      "  \"of iterations.\", ConvergenceWarning)\n",
      "C:\\Users\\zhiqi\\Anaconda3\\lib\\site-packages\\sklearn\\linear_model\\logistic.py:758: ConvergenceWarning: lbfgs failed to converge. Increase the number of iterations.\n",
      "  \"of iterations.\", ConvergenceWarning)\n",
      "C:\\Users\\zhiqi\\Anaconda3\\lib\\site-packages\\sklearn\\linear_model\\logistic.py:758: ConvergenceWarning: lbfgs failed to converge. Increase the number of iterations.\n",
      "  \"of iterations.\", ConvergenceWarning)\n",
      "C:\\Users\\zhiqi\\Anaconda3\\lib\\site-packages\\sklearn\\linear_model\\logistic.py:758: ConvergenceWarning: lbfgs failed to converge. Increase the number of iterations.\n",
      "  \"of iterations.\", ConvergenceWarning)\n",
      "C:\\Users\\zhiqi\\Anaconda3\\lib\\site-packages\\sklearn\\linear_model\\logistic.py:758: ConvergenceWarning: lbfgs failed to converge. Increase the number of iterations.\n",
      "  \"of iterations.\", ConvergenceWarning)\n",
      "C:\\Users\\zhiqi\\Anaconda3\\lib\\site-packages\\sklearn\\linear_model\\logistic.py:758: ConvergenceWarning: lbfgs failed to converge. Increase the number of iterations.\n",
      "  \"of iterations.\", ConvergenceWarning)\n",
      "C:\\Users\\zhiqi\\Anaconda3\\lib\\site-packages\\sklearn\\linear_model\\logistic.py:758: ConvergenceWarning: lbfgs failed to converge. Increase the number of iterations.\n",
      "  \"of iterations.\", ConvergenceWarning)\n",
      "C:\\Users\\zhiqi\\Anaconda3\\lib\\site-packages\\sklearn\\linear_model\\logistic.py:758: ConvergenceWarning: lbfgs failed to converge. Increase the number of iterations.\n",
      "  \"of iterations.\", ConvergenceWarning)\n",
      "C:\\Users\\zhiqi\\Anaconda3\\lib\\site-packages\\sklearn\\linear_model\\logistic.py:758: ConvergenceWarning: lbfgs failed to converge. Increase the number of iterations.\n",
      "  \"of iterations.\", ConvergenceWarning)\n",
      "C:\\Users\\zhiqi\\Anaconda3\\lib\\site-packages\\sklearn\\linear_model\\logistic.py:758: ConvergenceWarning: lbfgs failed to converge. Increase the number of iterations.\n",
      "  \"of iterations.\", ConvergenceWarning)\n",
      "C:\\Users\\zhiqi\\Anaconda3\\lib\\site-packages\\sklearn\\linear_model\\logistic.py:758: ConvergenceWarning: lbfgs failed to converge. Increase the number of iterations.\n",
      "  \"of iterations.\", ConvergenceWarning)\n",
      "C:\\Users\\zhiqi\\Anaconda3\\lib\\site-packages\\sklearn\\linear_model\\logistic.py:758: ConvergenceWarning: lbfgs failed to converge. Increase the number of iterations.\n",
      "  \"of iterations.\", ConvergenceWarning)\n",
      "C:\\Users\\zhiqi\\Anaconda3\\lib\\site-packages\\sklearn\\linear_model\\logistic.py:758: ConvergenceWarning: lbfgs failed to converge. Increase the number of iterations.\n",
      "  \"of iterations.\", ConvergenceWarning)\n",
      "C:\\Users\\zhiqi\\Anaconda3\\lib\\site-packages\\sklearn\\linear_model\\logistic.py:758: ConvergenceWarning: lbfgs failed to converge. Increase the number of iterations.\n",
      "  \"of iterations.\", ConvergenceWarning)\n",
      "C:\\Users\\zhiqi\\Anaconda3\\lib\\site-packages\\sklearn\\linear_model\\logistic.py:758: ConvergenceWarning: lbfgs failed to converge. Increase the number of iterations.\n",
      "  \"of iterations.\", ConvergenceWarning)\n",
      "C:\\Users\\zhiqi\\Anaconda3\\lib\\site-packages\\sklearn\\linear_model\\logistic.py:758: ConvergenceWarning: lbfgs failed to converge. Increase the number of iterations.\n",
      "  \"of iterations.\", ConvergenceWarning)\n",
      "C:\\Users\\zhiqi\\Anaconda3\\lib\\site-packages\\sklearn\\linear_model\\logistic.py:758: ConvergenceWarning: lbfgs failed to converge. Increase the number of iterations.\n",
      "  \"of iterations.\", ConvergenceWarning)\n",
      "C:\\Users\\zhiqi\\Anaconda3\\lib\\site-packages\\sklearn\\linear_model\\logistic.py:758: ConvergenceWarning: lbfgs failed to converge. Increase the number of iterations.\n",
      "  \"of iterations.\", ConvergenceWarning)\n",
      "C:\\Users\\zhiqi\\Anaconda3\\lib\\site-packages\\sklearn\\linear_model\\logistic.py:758: ConvergenceWarning: lbfgs failed to converge. Increase the number of iterations.\n",
      "  \"of iterations.\", ConvergenceWarning)\n",
      "C:\\Users\\zhiqi\\Anaconda3\\lib\\site-packages\\sklearn\\linear_model\\logistic.py:758: ConvergenceWarning: lbfgs failed to converge. Increase the number of iterations.\n",
      "  \"of iterations.\", ConvergenceWarning)\n",
      "C:\\Users\\zhiqi\\Anaconda3\\lib\\site-packages\\sklearn\\linear_model\\logistic.py:758: ConvergenceWarning: lbfgs failed to converge. Increase the number of iterations.\n",
      "  \"of iterations.\", ConvergenceWarning)\n",
      "C:\\Users\\zhiqi\\Anaconda3\\lib\\site-packages\\sklearn\\linear_model\\logistic.py:758: ConvergenceWarning: lbfgs failed to converge. Increase the number of iterations.\n",
      "  \"of iterations.\", ConvergenceWarning)\n",
      "C:\\Users\\zhiqi\\Anaconda3\\lib\\site-packages\\sklearn\\linear_model\\logistic.py:758: ConvergenceWarning: lbfgs failed to converge. Increase the number of iterations.\n",
      "  \"of iterations.\", ConvergenceWarning)\n",
      "C:\\Users\\zhiqi\\Anaconda3\\lib\\site-packages\\sklearn\\linear_model\\logistic.py:758: ConvergenceWarning: lbfgs failed to converge. Increase the number of iterations.\n",
      "  \"of iterations.\", ConvergenceWarning)\n",
      "C:\\Users\\zhiqi\\Anaconda3\\lib\\site-packages\\sklearn\\linear_model\\logistic.py:758: ConvergenceWarning: lbfgs failed to converge. Increase the number of iterations.\n",
      "  \"of iterations.\", ConvergenceWarning)\n"
     ]
    },
    {
     "name": "stderr",
     "output_type": "stream",
     "text": [
      "C:\\Users\\zhiqi\\Anaconda3\\lib\\site-packages\\sklearn\\linear_model\\logistic.py:758: ConvergenceWarning: lbfgs failed to converge. Increase the number of iterations.\n",
      "  \"of iterations.\", ConvergenceWarning)\n",
      "C:\\Users\\zhiqi\\Anaconda3\\lib\\site-packages\\sklearn\\linear_model\\logistic.py:758: ConvergenceWarning: lbfgs failed to converge. Increase the number of iterations.\n",
      "  \"of iterations.\", ConvergenceWarning)\n",
      "C:\\Users\\zhiqi\\Anaconda3\\lib\\site-packages\\sklearn\\linear_model\\logistic.py:758: ConvergenceWarning: lbfgs failed to converge. Increase the number of iterations.\n",
      "  \"of iterations.\", ConvergenceWarning)\n",
      "C:\\Users\\zhiqi\\Anaconda3\\lib\\site-packages\\sklearn\\linear_model\\logistic.py:758: ConvergenceWarning: lbfgs failed to converge. Increase the number of iterations.\n",
      "  \"of iterations.\", ConvergenceWarning)\n",
      "C:\\Users\\zhiqi\\Anaconda3\\lib\\site-packages\\sklearn\\linear_model\\logistic.py:758: ConvergenceWarning: lbfgs failed to converge. Increase the number of iterations.\n",
      "  \"of iterations.\", ConvergenceWarning)\n",
      "C:\\Users\\zhiqi\\Anaconda3\\lib\\site-packages\\sklearn\\linear_model\\logistic.py:758: ConvergenceWarning: lbfgs failed to converge. Increase the number of iterations.\n",
      "  \"of iterations.\", ConvergenceWarning)\n",
      "C:\\Users\\zhiqi\\Anaconda3\\lib\\site-packages\\sklearn\\linear_model\\logistic.py:758: ConvergenceWarning: lbfgs failed to converge. Increase the number of iterations.\n",
      "  \"of iterations.\", ConvergenceWarning)\n",
      "C:\\Users\\zhiqi\\Anaconda3\\lib\\site-packages\\sklearn\\linear_model\\logistic.py:758: ConvergenceWarning: lbfgs failed to converge. Increase the number of iterations.\n",
      "  \"of iterations.\", ConvergenceWarning)\n"
     ]
    }
   ],
   "source": [
    "from sklearn.linear_model import LogisticRegressionCV\n",
    "\n",
    "alpha = np.logspace(-3,3,7)\n",
    "C = 1/alpha\n",
    "log_regressor_L2reg = LogisticRegressionCV(Cs = C, cv=10, random_state=0, penalty = 'l2').fit(X_trainval, y_trainval)"
   ]
  },
  {
   "cell_type": "code",
   "execution_count": 30,
   "metadata": {},
   "outputs": [
    {
     "name": "stdout",
     "output_type": "stream",
     "text": [
      "accuracy values\n",
      "[0.43841808 0.6180791  0.70169492 0.75367232 0.79322034 0.80451977\n",
      " 0.77966102 0.75028249 0.70282486 0.62372881 0.56158192]\n",
      "sensitivity values\n",
      "[1.         0.97680412 0.95360825 0.90463918 0.85824742 0.78092784\n",
      " 0.63659794 0.5128866  0.36082474 0.15979381 0.        ]\n",
      "specificity values\n",
      "[0.         0.33802817 0.50503018 0.63581489 0.74245473 0.82293763\n",
      " 0.89134809 0.93561368 0.96981891 0.98591549 1.        ]\n"
     ]
    },
    {
     "name": "stderr",
     "output_type": "stream",
     "text": [
      "C:\\Users\\zhiqi\\Anaconda3\\lib\\site-packages\\ipykernel_launcher.py:18: RuntimeWarning: invalid value encountered in longlong_scalars\n"
     ]
    }
   ],
   "source": [
    "from sklearn.metrics import confusion_matrix, auc, roc_auc_score\n",
    "\n",
    "threshold = np.arange(0,1.1,0.1)\n",
    "accuracy_L2 = np.zeros(len(threshold))\n",
    "sensitivity_L2 = np.zeros(len(threshold))\n",
    "specificity_L2 = np.zeros(len(threshold))\n",
    "precision_L2 = np.zeros(len(threshold))\n",
    "\n",
    "for i in range(len(threshold)):\n",
    "\n",
    "    predict = (log_regressor_L2reg.predict_proba(X_val)[:,1] >= threshold[i]).astype(int)\n",
    "\n",
    "    TN, FP, FN, TP = confusion_matrix(y_val,predict).ravel()\n",
    "\n",
    "    accuracy_L2[i] = np.mean(predict == y_val)\n",
    "    sensitivity_L2[i] = TP / (TP + FN)\n",
    "    specificity_L2[i] = TN / (TN + FP)\n",
    "    precision_L2[i] = TP / (TP + FP)\n",
    "\n",
    "recall_L2 = sensitivity_L2.copy()\n",
    "\n",
    "print('accuracy values')\n",
    "print(accuracy_L2)\n",
    "print('sensitivity values')\n",
    "print(sensitivity_L2)\n",
    "print('specificity values')\n",
    "print(specificity_L2)"
   ]
  },
  {
   "cell_type": "code",
   "execution_count": 31,
   "metadata": {},
   "outputs": [
    {
     "name": "stdout",
     "output_type": "stream",
     "text": [
      "auc\n",
      "0.8709602978696924\n"
     ]
    },
    {
     "data": {
      "image/png": "[encoded data removed]",
      "text/plain": [
       "<Figure size 432x288 with 1 Axes>"
      ]
     },
     "metadata": {
      "needs_background": "light"
     },
     "output_type": "display_data"
    }
   ],
   "source": [
    "plt.plot(sensitivity_L2, specificity_L2)\n",
    "plt.xlabel('sensitivity')\n",
    "plt.ylabel('specificity')\n",
    "plt.title('ROC')\n",
    "plt.savefig('logreg_L2_ROC.png')\n",
    "\n",
    "print('auc')\n",
    "print(auc(sensitivity_L2,specificity_L2)) #auc takes in arguments (x,y)"
   ]
  },
  {
   "cell_type": "code",
   "execution_count": 25,
   "metadata": {},
   "outputs": [],
   "source": [
    "from sklearn.linear_model import LogisticRegressionCV\n",
    "\n",
    "alpha = np.logspace(-3,3,7)\n",
    "C = 1/alpha\n",
    "log_regressor_L1reg = LogisticRegressionCV(Cs = C, cv=10, random_state=0, penalty = 'l1', solver = 'liblinear').fit(X_trainval, y_trainval)"
   ]
  },
  {
   "cell_type": "code",
   "execution_count": 28,
   "metadata": {},
   "outputs": [
    {
     "name": "stdout",
     "output_type": "stream",
     "text": [
      "accuracy values\n",
      "[0.43841808 0.62824859 0.70734463 0.75819209 0.78983051 0.8079096\n",
      " 0.79322034 0.75706215 0.71073446 0.63728814 0.56158192]\n",
      "sensitivity values\n",
      "[1.         0.97164948 0.95103093 0.89948454 0.85309278 0.78865979\n",
      " 0.66237113 0.52835052 0.38917526 0.19329897 0.        ]\n",
      "specificity values\n",
      "[0.         0.36016097 0.51710262 0.64788732 0.74044266 0.82293763\n",
      " 0.89537223 0.93561368 0.96177062 0.98390342 1.        ]\n"
     ]
    },
    {
     "name": "stderr",
     "output_type": "stream",
     "text": [
      "C:\\Users\\zhiqi\\Anaconda3\\lib\\site-packages\\ipykernel_launcher.py:18: RuntimeWarning: invalid value encountered in longlong_scalars\n"
     ]
    }
   ],
   "source": [
    "from sklearn.metrics import confusion_matrix, auc, roc_auc_score\n",
    "\n",
    "threshold = np.arange(0,1.1,0.1)\n",
    "accuracy_L1 = np.zeros(len(threshold))\n",
    "sensitivity_L1 = np.zeros(len(threshold))\n",
    "specificity_L1 = np.zeros(len(threshold))\n",
    "precision_L1 = np.zeros(len(threshold))\n",
    "\n",
    "for i in range(len(threshold)):\n",
    "\n",
    "    predict = (log_regressor_L1reg.predict_proba(X_val)[:,1] >= threshold[i]).astype(int)\n",
    "\n",
    "    TN, FP, FN, TP = confusion_matrix(y_val,predict).ravel()\n",
    "\n",
    "    accuracy_L1[i] = np.mean(predict == y_val)\n",
    "    sensitivity_L1[i] = TP / (TP + FN)\n",
    "    specificity_L1[i] = TN / (TN + FP)\n",
    "    precision_L1[i] = TP / (TP + FP)\n",
    "\n",
    "recall_L1 = sensitivity_L1.copy()\n",
    "\n",
    "print('accuracy values')\n",
    "print(accuracy_L1)\n",
    "print('sensitivity values')\n",
    "print(sensitivity_L1)\n",
    "print('specificity values')\n",
    "print(specificity_L1)"
   ]
  },
  {
   "cell_type": "code",
   "execution_count": 29,
   "metadata": {},
   "outputs": [
    {
     "name": "stdout",
     "output_type": "stream",
     "text": [
      "auc\n",
      "0.8722748864319939\n"
     ]
    },
    {
     "data": {
      "image/png": "[encoded data removed]",
      "text/plain": [
       "<Figure size 432x288 with 1 Axes>"
      ]
     },
     "metadata": {
      "needs_background": "light"
     },
     "output_type": "display_data"
    }
   ],
   "source": [
    "plt.plot(sensitivity_L1, specificity_L1)\n",
    "plt.xlabel('sensitivity')\n",
    "plt.ylabel('specificity')\n",
    "plt.title('ROC')\n",
    "plt.savefig('logreg_L1_ROC.png')\n",
    "\n",
    "print('auc')\n",
    "print(auc(sensitivity_L1,specificity_L1)) #auc takes in arguments (x,y)"
   ]
  },
  {
   "cell_type": "code",
   "execution_count": 35,
   "metadata": {},
   "outputs": [
    {
     "name": "stdout",
     "output_type": "stream",
     "text": [
      "auc\n",
      "0.857451409487855\n",
      "0.8722748864319939\n",
      "0.8709602978696924\n"
     ]
    },
    {
     "data": {
      "image/png": "[encoded data removed]",
      "text/plain": [
       "<Figure size 432x288 with 1 Axes>"
      ]
     },
     "metadata": {
      "needs_background": "light"
     },
     "output_type": "display_data"
    }
   ],
   "source": [
    "plt.plot(sensitivity, specificity, label = 'w/o reg')\n",
    "plt.plot(sensitivity_L1, specificity_L1, label = 'L1')\n",
    "plt.plot(sensitivity_L2, specificity_L2, label = 'L2')\n",
    "\n",
    "plt.xlabel('sensitivity')\n",
    "plt.ylabel('specificity')\n",
    "plt.title('ROC')\n",
    "plt.legend()\n",
    "plt.savefig('logreg_comparison_ROC.png')\n",
    "\n",
    "print('auc')\n",
    "print(auc(sensitivity,specificity)) #auc takes in arguments (x,y)\n",
    "print(auc(sensitivity_L1,specificity_L1)) #auc takes in arguments (x,y)\n",
    "print(auc(sensitivity_L2,specificity_L2)) #auc takes in arguments (x,y)"
   ]
  },
  {
   "cell_type": "markdown",
   "metadata": {},
   "source": [
    "## Prediction of Best Model on Test Set"
   ]
  },
  {
   "cell_type": "code",
   "execution_count": 36,
   "metadata": {},
   "outputs": [
    {
     "name": "stdout",
     "output_type": "stream",
     "text": [
      "accuracy values\n",
      "0.7694394213381555\n",
      "sensitivity values\n",
      "0.7127882599580713\n",
      "specificity values\n",
      "0.8124006359300477\n"
     ]
    }
   ],
   "source": [
    "# Best Model is Logistic Regression with L1 regularization\n",
    "\n",
    "threshold = 0.5 \n",
    "predict = (log_regressor_L1reg.predict_proba(X_test)[:,1] >= threshold).astype(int)\n",
    "\n",
    "TN, FP, FN, TP = confusion_matrix(y_test,predict).ravel()\n",
    "\n",
    "accuracy = np.mean(predict == y_test)\n",
    "sensitivity = TP / (TP + FN)\n",
    "specificity = TN / (TN + FP)\n",
    "precision = TP / (TP + FP)\n",
    "\n",
    "recall = sensitivity.copy()\n",
    "\n",
    "print('accuracy values')\n",
    "print(accuracy)\n",
    "print('sensitivity values')\n",
    "print(sensitivity)\n",
    "print('specificity values')\n",
    "print(specificity)"
   ]
  }
 ],
 "metadata": {
  "kernelspec": {
   "display_name": "Python 3",
   "language": "python",
   "name": "python3"
  },
  "language_info": {
   "codemirror_mode": {
    "name": "ipython",
    "version": 3
   },
   "file_extension": ".py",
   "mimetype": "text/x-python",
   "name": "python",
   "nbconvert_exporter": "python",
   "pygments_lexer": "ipython3",
   "version": "3.7.1"
  }
 },
 "nbformat": 4,
 "nbformat_minor": 2
}
