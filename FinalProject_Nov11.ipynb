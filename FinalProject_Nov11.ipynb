{
 "cells": [
  {
   "cell_type": "code",
   "execution_count": 1,
   "metadata": {},
   "outputs": [],
   "source": [
    "import data_utils as util\n",
    "import numpy as np\n",
    "from sklearn.model_selection import train_test_split\n",
    "from matplotlib import pyplot as plt\n",
    "from sklearn.metrics import mean_squared_error\n",
    "import pandas as pd"
   ]
  },
  {
   "cell_type": "markdown",
   "metadata": {},
   "source": [
    "# Load Data"
   ]
  },
  {
   "cell_type": "code",
   "execution_count": null,
   "metadata": {},
   "outputs": [],
   "source": [
    "# # Load data\n",
    "# raw_data = util.load_data('./data/warfarin_with_dose.csv')\n",
    "# X = []\n",
    "# y = []\n",
    "# for point in raw_data:\n",
    "#     feature, dose = util.patient_from_feature(point)\n",
    "#     X.append(feature)\n",
    "#     y.append(dose)\n",
    "# X = np.array(X)\n",
    "# y = np.array(y)\n",
    "\n",
    "# Split the data into train, val and test\n",
    "# X_trainval, X_test, y_trainval, y_test = train_test_split(X, y, test_size=0.2, random_state=5)\n",
    "# X_train, X_val, y_train, y_val = train_test_split(X_trainval, y_trainval, test_size = 0.2, random_state = 5)"
   ]
  },
  {
   "cell_type": "markdown",
   "metadata": {},
   "source": [
    "# data preprocessing"
   ]
  },
  {
   "cell_type": "code",
   "execution_count": 2,
   "metadata": {},
   "outputs": [],
   "source": [
    "#######################################################\n",
    "# Load the feature header\n",
    "#######################################################\n",
    "import csv\n",
    "\n",
    "# read the csv file\n",
    "feature_names = []\n",
    "with open('./data/header.csv') as f:\n",
    "    reader = csv.reader(f)\n",
    "    for line in reader:\n",
    "        feature_names.append(line)\n",
    "\n",
    "# Dirty tricks to clean up the feature names\n",
    "feature_names = feature_names[0]\n",
    "feature_names = list(map(lambda x: x.replace(' ', '_'), feature_names))\n",
    "feature_names[0] = 'PharmGKB_Subject_ID' # manual fix to remove a character in f...[0]"
   ]
  },
  {
   "cell_type": "code",
   "execution_count": 3,
   "metadata": {},
   "outputs": [],
   "source": [
    "####################################################################\n",
    "# Load the dataframe into X; clean up some unnecessary columns \n",
    "####################################################################\n",
    "\n",
    "# Load data and process column names\n",
    "df = pd.read_csv('./data/warfarin_with_dose.csv', names = feature_names)\n",
    "#keep_default_na=False)\n",
    "df.columns = [c.replace(' ', '_') for c in df.columns]\n",
    "\n",
    "# Extract the label (Warfarin dose) from the rest of the features\n",
    "y = df.Therapeutic_Dose_of_Warfarin\n",
    "X = df.drop('Therapeutic_Dose_of_Warfarin',axis=1)\n",
    "feature_names.remove('Therapeutic_Dose_of_Warfarin')\n",
    "\n",
    "# Drop Subject_ID (irrelevant) and Medication (different to encode)\n",
    "X = X.drop('PharmGKB_Subject_ID',axis=1)\n",
    "X = X.drop('Medications',axis=1)\n",
    "feature_names.remove('PharmGKB_Subject_ID')\n",
    "feature_names.remove('Medications')"
   ]
  },
  {
   "cell_type": "code",
   "execution_count": 4,
   "metadata": {},
   "outputs": [],
   "source": [
    "####################################################################\n",
    "# Encode different features with numeric/label/onehot encodings \n",
    "####################################################################\n",
    "numeric_features = ['Height_(cm)',\n",
    "                    'Weight_(kg)',\n",
    "                    'Target_INR',\n",
    "                    'INR_on_Reported_Therapeutic_Dose_of_Warfarin',\n",
    "                    ]\n",
    "label_features =   ['Age',\n",
    "                    'Estimated_Target_INR_Range_Based_on_Indication']\n",
    "categorical_features = [f for f in feature_names \\\n",
    "                        if f not in numeric_features and f not in label_features]\n",
    "\n",
    "for feat in categorical_features:\n",
    "    X[feat] = X[feat].astype(str)"
   ]
  },
  {
   "cell_type": "code",
   "execution_count": 5,
   "metadata": {
    "scrolled": true
   },
   "outputs": [],
   "source": [
    "from sklearn.compose import ColumnTransformer\n",
    "from sklearn.pipeline import Pipeline\n",
    "from sklearn.preprocessing import OrdinalEncoder, OneHotEncoder, StandardScaler\n",
    "from sklearn.impute import SimpleImputer\n",
    "\n",
    "# We create the preprocessing pipelines for both numeric and categorical data.\n",
    "numeric_transformer = Pipeline(steps=[\n",
    "    ('imputer', SimpleImputer(strategy='median')),\n",
    "    ('scaler', StandardScaler())])\n",
    "\n",
    "label_transformer = Pipeline(steps=[\n",
    "    ('imputer', SimpleImputer(strategy='constant', fill_value='0-missing')),\n",
    "    ('ordinal', OrdinalEncoder())])\n",
    "\n",
    "categorical_transformer = Pipeline(steps=[\n",
    "    ('imputer', SimpleImputer(strategy='constant', fill_value='missing')),\n",
    "    ('onehot', OneHotEncoder(handle_unknown='ignore',sparse=False))])\n",
    "\n",
    "preprocessor = ColumnTransformer(\n",
    "    transformers=[\n",
    "        ('num', numeric_transformer, numeric_features),\n",
    "        ('lab', label_transformer, label_features),\n",
    "        ('cat', categorical_transformer, categorical_features)]\n",
    ")\n"
   ]
  },
  {
   "cell_type": "code",
   "execution_count": 6,
   "metadata": {},
   "outputs": [],
   "source": [
    "X_transformed = preprocessor.fit_transform(X)"
   ]
  },
  {
   "cell_type": "code",
   "execution_count": 7,
   "metadata": {
    "scrolled": false
   },
   "outputs": [
    {
     "data": {
      "text/plain": [
       "(5528, 1783)"
      ]
     },
     "execution_count": 7,
     "metadata": {},
     "output_type": "execute_result"
    }
   ],
   "source": [
    "X_transformed.shape"
   ]
  },
  {
   "cell_type": "code",
   "execution_count": null,
   "metadata": {
    "scrolled": true
   },
   "outputs": [],
   "source": [
    "X_transformed[0,1:20]"
   ]
  },
  {
   "cell_type": "code",
   "execution_count": null,
   "metadata": {},
   "outputs": [],
   "source": [
    "#X = pd.get_dummies(X)"
   ]
  },
  {
   "cell_type": "code",
   "execution_count": null,
   "metadata": {},
   "outputs": [],
   "source": [
    "#X.shape"
   ]
  },
  {
   "cell_type": "markdown",
   "metadata": {},
   "source": [
    "# Train Validation Test Split"
   ]
  },
  {
   "cell_type": "code",
   "execution_count": 8,
   "metadata": {},
   "outputs": [],
   "source": [
    "# Split the data into train, val and test\n",
    "X_trainval, X_test, y_trainval, y_test = train_test_split(X_transformed, y, test_size=0.2, random_state=5)\n",
    "X_train, X_val, y_train, y_val = train_test_split(X_trainval, y_trainval, test_size = 0.2, random_state = 5)"
   ]
  },
  {
   "cell_type": "markdown",
   "metadata": {},
   "source": [
    "# Learning"
   ]
  },
  {
   "cell_type": "code",
   "execution_count": 9,
   "metadata": {},
   "outputs": [
    {
     "name": "stdout",
     "output_type": "stream",
     "text": [
      "-1.2780170348734661e+17\n",
      "3.840717345814074e+19\n",
      "31.52241807909605\n",
      "[1.03681086e+00 3.72155015e+00 8.98413241e-01 ... 2.35467876e+10\n",
      " 2.35467876e+10 2.35467876e+10]\n"
     ]
    }
   ],
   "source": [
    "# Linear regression\n",
    "from sklearn.linear_model import LinearRegression\n",
    "\n",
    "lr_regressor = LinearRegression(fit_intercept = True)\n",
    "lr_regressor.fit(X_train, y_train)\n",
    "print(lr_regressor.score(X_val, y_val))\n",
    "\n",
    "y_pred = lr_regressor.predict(X_val)\n",
    "print(mean_squared_error(y_val,y_pred))\n",
    "print(np.mean(y_val))\n",
    "coef = lr_regressor.coef_\n",
    "print(coef)\n",
    "\n",
    "\n"
   ]
  },
  {
   "cell_type": "code",
   "execution_count": null,
   "metadata": {},
   "outputs": [],
   "source": [
    "# SVM\n",
    "from sklearn.svm import SVR\n",
    "\n",
    "svm_regressor = SVR(kernel='rbf', gamma='auto')\n",
    "svm_regressor.fit(X_train, y_train)\n",
    "svm_regressor.score(X_val, y_val)"
   ]
  },
  {
   "cell_type": "code",
   "execution_count": null,
   "metadata": {
    "scrolled": true
   },
   "outputs": [],
   "source": [
    "# SVM with various hyperparameters\n",
    "from sklearn.svm import SVR\n",
    "\n",
    "#initialise arrays to store the scores \n",
    "svm_score_train = np.zeros((7,1))\n",
    "svm_score_val = np.zeros((7,1))\n",
    "\n",
    "for i, C in enumerate((1000,100,10,1, 0.1, 0.01,0.001)):\n",
    "    svm_regressor = SVR(kernel='rbf', gamma='auto', C=C)\n",
    "    svm_regressor.fit(X_train,y_train)\n",
    "    svm_score_train[i,:] = svm_regressor.score(X_train,y_train)\n",
    "    svm_score_val[i,:] = svm_regressor.score(X_val,y_val)\n",
    "    \n",
    "print('training score \\n', svm_score_train)\n",
    "print('validation score \\n', svm_score_val)\n",
    "\n",
    "\n"
   ]
  },
  {
   "cell_type": "code",
   "execution_count": 15,
   "metadata": {
    "scrolled": true
   },
   "outputs": [
    {
     "name": "stdout",
     "output_type": "stream",
     "text": [
      "training score \n",
      " [0.42113731 0.47454528 0.53138567 0.66648845 0.72476298 0.72793033\n",
      " 0.72804884]\n",
      "validation score \n",
      " [0.41272997 0.4486295  0.46288073 0.45784511 0.42672197 0.39195886\n",
      " 0.3691884 ]\n",
      "162.92925983498432\n",
      "31.52241807909605\n",
      "[ 0.91302749  3.85704405  0.63758472 ... -1.18322384  0.08614368\n",
      "  0.94772905]\n"
     ]
    }
   ],
   "source": [
    "# Ridge Regression\n",
    "from sklearn.linear_model import Ridge\n",
    "\n",
    "#initialise arrays to store the scores \n",
    "ridge_score_train = np.zeros(7)\n",
    "ridge_score_val = np.zeros(7)\n",
    "\n",
    "for i, C in enumerate((1000,100,10,1, 0.1, 0.01,0.001)):\n",
    "    ridge_regressor = Ridge(alpha=C, fit_intercept = True)\n",
    "    ridge_regressor.fit(X_train,y_train)\n",
    "    ridge_score_train[i] = ridge_regressor.score(X_train,y_train)\n",
    "    ridge_score_val[i] = ridge_regressor.score(X_val,y_val)\n",
    "    \n",
    "print('training score \\n', ridge_score_train)\n",
    "print('validation score \\n', ridge_score_val)\n",
    "\n",
    "best_ridge = Ridge(alpha = 1, fit_intercept = True)\n",
    "best_ridge.fit(X_train,y_train)\n",
    "y_pred = best_ridge.predict(X_val)\n",
    "print(mean_squared_error(y_val,y_pred))\n",
    "print(np.mean(y_val))\n",
    "\n",
    "print(best_ridge.coef_)"
   ]
  },
  {
   "cell_type": "code",
   "execution_count": 16,
   "metadata": {
    "scrolled": true
   },
   "outputs": [
    {
     "data": {
      "text/plain": [
       "Text(0.5, 1.0, 'Accuracy vs Lambda - Ridge Penalty')"
      ]
     },
     "execution_count": 16,
     "metadata": {},
     "output_type": "execute_result"
    },
    {
     "data": {
      "image/png": "[encoded data removed]",
      "text/plain": [
       "<Figure size 432x288 with 1 Axes>"
      ]
     },
     "metadata": {
      "needs_background": "light"
     },
     "output_type": "display_data"
    }
   ],
   "source": [
    "xaxis = [0.001,0.01,0.1,1,10,100,1000] #values of lambda used\n",
    "plt.plot(xaxis,ridge_score_train, label = 'training')\n",
    "plt.plot(xaxis,ridge_score_val, label = 'validation')\n",
    "plt.xlabel('lambda')\n",
    "plt.ylabel('score')\n",
    "plt.legend()\n",
    "plt.xscale('log')\n",
    "plt.title('Accuracy vs Lambda - Ridge Penalty')"
   ]
  },
  {
   "cell_type": "code",
   "execution_count": 17,
   "metadata": {
    "scrolled": true
   },
   "outputs": [
    {
     "name": "stdout",
     "output_type": "stream",
     "text": [
      "training score \n",
      " [0.         0.         0.         0.34330584 0.44870829 0.57995481\n",
      " 0.71438134]\n",
      "validation score \n",
      " [-0.00081468 -0.00081468 -0.00081468  0.34166222  0.42456463  0.46187681\n",
      "  0.4517961 ]\n"
     ]
    },
    {
     "name": "stderr",
     "output_type": "stream",
     "text": [
      "C:\\Users\\zhiqi\\Anaconda3\\lib\\site-packages\\sklearn\\linear_model\\coordinate_descent.py:492: ConvergenceWarning: Objective did not converge. You might want to increase the number of iterations. Fitting data with very small alpha may cause precision problems.\n",
      "  ConvergenceWarning)\n"
     ]
    }
   ],
   "source": [
    "# Lasso Regression\n",
    "from sklearn.linear_model import Lasso\n",
    "\n",
    "#initialise arrays to store the scores \n",
    "lasso_score_train = np.zeros(7)\n",
    "lasso_score_val = np.zeros(7)\n",
    "\n",
    "for i, C in enumerate((1000,100,10,1, 0.1, 0.01,0.001)):\n",
    "    lasso_regressor = Lasso(alpha=C, fit_intercept = True)\n",
    "    lasso_regressor.fit(X_train,y_train)\n",
    "    lasso_score_train[i] = lasso_regressor.score(X_train,y_train)\n",
    "    lasso_score_val[i] = lasso_regressor.score(X_val,y_val)\n",
    "    \n",
    "print('training score \\n', lasso_score_train)\n",
    "print('validation score \\n', lasso_score_val)"
   ]
  },
  {
   "cell_type": "code",
   "execution_count": 18,
   "metadata": {},
   "outputs": [
    {
     "data": {
      "text/plain": [
       "Text(0.5, 1.0, 'Accuracy vs Lambda - Ridge Penalty')"
      ]
     },
     "execution_count": 18,
     "metadata": {},
     "output_type": "execute_result"
    },
    {
     "data": {
      "image/png": "[encoded data removed]",
      "text/plain": [
       "<Figure size 432x288 with 1 Axes>"
      ]
     },
     "metadata": {
      "needs_background": "light"
     },
     "output_type": "display_data"
    }
   ],
   "source": [
    "xaxis = [0.001,0.01,0.1,1,10,100,1000] #values of lambda used\n",
    "plt.plot(xaxis,lasso_score_train, label = 'training')\n",
    "plt.plot(xaxis,lasso_score_val, label = 'validation')\n",
    "plt.xlabel('lambda')\n",
    "plt.ylabel('score')\n",
    "plt.legend()\n",
    "plt.xscale('log')\n",
    "plt.title('Accuracy vs Lambda - Ridge Penalty')"
   ]
  },
  {
   "cell_type": "code",
   "execution_count": null,
   "metadata": {},
   "outputs": [],
   "source": [
    "# non-nested cross validation using RBF SVM\n",
    "from sklearn.model_selection import GridSearchCV\n",
    "\n",
    "rbf = SVR(kernel='rbf')\n",
    "gammas = np.logspace(-6, 0, 7)\n",
    "params = {'gamma': gammas}\n",
    "gridcv = GridSearchCV(estimator=rbf, param_grid=params, cv=5)\n",
    "gridcv.fit(X_trainval, y_trainval)\n",
    "scores_mean = gridcv.cv_results_['mean_test_score']\n",
    "scores_sd = gridcv.cv_results_['std_test_score']\n",
    "print('highest accuracy score is',gridcv.best_score_)\n",
    "model = gridcv.best_estimator_"
   ]
  },
  {
   "cell_type": "code",
   "execution_count": null,
   "metadata": {},
   "outputs": [],
   "source": [
    "# non-nested cross validation using Ridge\n",
    "from sklearn.model_selection import GridSearchCV\n",
    "\n",
    "ridge_regressor = Ridge(fit_intercept = True)\n",
    "params={'alpha': [25,10,4,2,1.0,0.8,0.5,0.3,0.2,0.1,0.05,0.02,0.01]}\n",
    "\n",
    "gridcv = GridSearchCV(estimator=ridge_regressor, param_grid=params, cv=10)\n",
    "gridcv.fit(X_trainval, y_trainval)\n",
    "scores_mean = gridcv.cv_results_['mean_test_score']\n",
    "scores_sd = gridcv.cv_results_['std_test_score']\n",
    "print('highest accuracy score is',gridcv.best_score_)\n",
    "model = gridcv.best_estimator_"
   ]
  },
  {
   "cell_type": "code",
   "execution_count": null,
   "metadata": {},
   "outputs": [],
   "source": []
  }
 ],
 "metadata": {
  "kernelspec": {
   "display_name": "Python 3",
   "language": "python",
   "name": "python3"
  },
  "language_info": {
   "codemirror_mode": {
    "name": "ipython",
    "version": 3
   },
   "file_extension": ".py",
   "mimetype": "text/x-python",
   "name": "python",
   "nbconvert_exporter": "python",
   "pygments_lexer": "ipython3",
   "version": "3.7.1"
  }
 },
 "nbformat": 4,
 "nbformat_minor": 2
}
