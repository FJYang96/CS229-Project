{
 "cells": [
  {
   "cell_type": "code",
   "execution_count": 44,
   "metadata": {},
   "outputs": [],
   "source": [
    "import utils as util\n",
    "import numpy as np\n",
    "from sklearn.model_selection import train_test_split\n",
    "from matplotlib import pyplot as plt\n",
    "from sklearn.metrics import mean_squared_error\n"
   ]
  },
  {
   "cell_type": "code",
   "execution_count": 36,
   "metadata": {},
   "outputs": [],
   "source": [
    "# Load data\n",
    "raw_data = util.load_data('warfarin_with_dose.csv')\n",
    "X = []\n",
    "y = []\n",
    "for point in raw_data:\n",
    "    feature, dose = util.patient_from_feature(point)\n",
    "    X.append(feature)\n",
    "    y.append(dose)\n",
    "X = np.array(X)\n",
    "y = np.array(y)\n",
    "\n",
    "# Pre-Processing\n",
    "# from sklearn import preprocessing\n",
    "# scaler = preprocessing.StandardScaler()\n",
    "# X = scaler.fit_transform(X)\n",
    "\n",
    "# Split the data into train, val and test\n",
    "X_trainval, X_test, y_trainval, y_test = train_test_split(X, y, test_size=0.2, random_state=0)\n",
    "X_train, X_val, y_train, y_val = train_test_split(X_trainval, y_trainval, test_size = 0.2, random_state = 0)\n"
   ]
  },
  {
   "cell_type": "code",
   "execution_count": 37,
   "metadata": {},
   "outputs": [],
   "source": [
    "## Features\n",
    "#     feature = np.ones(18)\n",
    "#     feature[0] = extract_age(x)\n",
    "#     feature[1] = extract_height(x)\n",
    "#     feature[2] = extract_weight(x)\n",
    "#     feature[3:7] = extract_race(x)\n",
    "#     feature[7] = extract_Amio(x)\n",
    "#     feature[8] = extract_enzyme(x)\n",
    "#     feature[9:15] = extract_CYP(x)\n",
    "#     feature[15:18] = extract_VKO(x)\n"
   ]
  },
  {
   "cell_type": "code",
   "execution_count": 38,
   "metadata": {
    "scrolled": false
   },
   "outputs": [
    {
     "name": "stdout",
     "output_type": "stream",
     "text": [
      "(3537, 18)\n",
      "[[  5.   166.    64.   ...   0.     0.     0.  ]\n",
      " [  6.   170.18  88.   ...   0.     0.     1.  ]\n",
      " [  7.   166.12  62.3  ...   0.     1.     0.  ]\n",
      " ...\n",
      " [  8.   157.48  52.2  ...   1.     0.     0.  ]\n",
      " [  7.   175.26 113.   ...   0.     0.     0.  ]\n",
      " [  7.   180.34  90.7  ...   1.     0.     0.  ]]\n",
      "[22.47 37.5  28.   ... 30.   46.9  42.  ]\n"
     ]
    }
   ],
   "source": [
    "#check dataset\n",
    "print(X_train.shape)\n",
    "print(X_train)\n",
    "print(y_train)"
   ]
  },
  {
   "cell_type": "code",
   "execution_count": 48,
   "metadata": {},
   "outputs": [
    {
     "name": "stdout",
     "output_type": "stream",
     "text": [
      "0.4190950947712494\n",
      "171.46222796877814\n",
      "32.18242937853107\n",
      "[ -2.55658836   0.08893858   0.15337975  -2.28939148   1.91831832\n",
      "   0.66516065  -0.29408749  -6.68339492  19.65004685  -6.32290148\n",
      " -10.12763766 -11.01987753 -18.30847211 -21.07654829  -0.38028651\n",
      "  -9.38428301 -17.55039092  -7.95263633]\n"
     ]
    }
   ],
   "source": [
    "# Linear regression\n",
    "from sklearn.linear_model import LinearRegression\n",
    "\n",
    "lr_regressor = LinearRegression(fit_intercept = True)\n",
    "lr_regressor.fit(X_train, y_train)\n",
    "print(lr_regressor.score(X_val, y_val))\n",
    "\n",
    "y_pred = lr_regressor.predict(X_val)\n",
    "print(mean_squared_error(y_val,y_pred))\n",
    "print(np.mean(y_val))\n",
    "coef = lr_regressor.coef_\n",
    "print(coef)\n",
    "\n",
    "\n"
   ]
  },
  {
   "cell_type": "code",
   "execution_count": 31,
   "metadata": {},
   "outputs": [
    {
     "data": {
      "text/plain": [
       "0.34885986212276465"
      ]
     },
     "execution_count": 31,
     "metadata": {},
     "output_type": "execute_result"
    }
   ],
   "source": [
    "# SVM\n",
    "from sklearn.svm import SVR\n",
    "\n",
    "svm_regressor = SVR(kernel='rbf', gamma='auto')\n",
    "svm_regressor.fit(X_train, y_train)\n",
    "svm_regressor.score(X_val, y_val)"
   ]
  },
  {
   "cell_type": "code",
   "execution_count": 32,
   "metadata": {
    "scrolled": true
   },
   "outputs": [
    {
     "name": "stdout",
     "output_type": "stream",
     "text": [
      "training score \n",
      " [[ 0.5126063 ]\n",
      " [ 0.45474466]\n",
      " [ 0.40363197]\n",
      " [ 0.33870405]\n",
      " [ 0.20649663]\n",
      " [ 0.03167074]\n",
      " [-0.0230361 ]]\n",
      "validation score \n",
      " [[ 0.03759617]\n",
      " [ 0.37079432]\n",
      " [ 0.3993058 ]\n",
      " [ 0.34885986]\n",
      " [ 0.20404278]\n",
      " [ 0.00675302]\n",
      " [-0.05300609]]\n"
     ]
    }
   ],
   "source": [
    "# SVM with various hyperparameters\n",
    "from sklearn.svm import SVR\n",
    "\n",
    "#initialise arrays to store the scores \n",
    "svm_score_train = np.zeros((7,1))\n",
    "svm_score_val = np.zeros((7,1))\n",
    "\n",
    "for i, C in enumerate((1000,100,10,1, 0.1, 0.01,0.001)):\n",
    "    svm_regressor = SVR(kernel='rbf', gamma='auto', C=C)\n",
    "    svm_regressor.fit(X_train,y_train)\n",
    "    svm_score_train[i,:] = svm_regressor.score(X_train,y_train)\n",
    "    svm_score_val[i,:] = svm_regressor.score(X_val,y_val)\n",
    "    \n",
    "print('training score \\n', svm_score_train)\n",
    "print('validation score \\n', svm_score_val)\n"
   ]
  },
  {
   "cell_type": "code",
   "execution_count": 33,
   "metadata": {},
   "outputs": [
    {
     "name": "stdout",
     "output_type": "stream",
     "text": [
      "training score \n",
      " [[0.34685104]\n",
      " [0.37373007]\n",
      " [0.37466656]\n",
      " [0.37467813]\n",
      " [0.37467825]\n",
      " [0.37467825]\n",
      " [0.37467825]]\n",
      "validation score \n",
      " [[0.38743331]\n",
      " [0.41773642]\n",
      " [0.41904414]\n",
      " [0.41909108]\n",
      " [0.4190947 ]\n",
      " [0.41909506]\n",
      " [0.41909509]]\n"
     ]
    }
   ],
   "source": [
    "# Ridge Regression\n",
    "from sklearn.linear_model import Ridge\n",
    "\n",
    "#initialise arrays to store the scores \n",
    "ridge_score_train = np.zeros((7,1))\n",
    "ridge_score_val = np.zeros((7,1))\n",
    "\n",
    "for i, C in enumerate((1000,100,10,1, 0.1, 0.01,0.001)):\n",
    "    ridge_regressor = Ridge(alpha=C, fit_intercept = True)\n",
    "    ridge_regressor.fit(X_train,y_train)\n",
    "    ridge_score_train[i,:] = ridge_regressor.score(X_train,y_train)\n",
    "    ridge_score_val[i,:] = ridge_regressor.score(X_val,y_val)\n",
    "    \n",
    "print('training score \\n', ridge_score_train)\n",
    "print('validation score \\n', ridge_score_val)"
   ]
  },
  {
   "cell_type": "code",
   "execution_count": 34,
   "metadata": {},
   "outputs": [
    {
     "name": "stdout",
     "output_type": "stream",
     "text": [
      "training score \n",
      " [[0.        ]\n",
      " [0.        ]\n",
      " [0.        ]\n",
      " [0.30317023]\n",
      " [0.37387385]\n",
      " [0.37466976]\n",
      " [0.37467817]]\n",
      "validation score \n",
      " [[-0.00535607]\n",
      " [-0.00535607]\n",
      " [-0.00535607]\n",
      " [ 0.34205776]\n",
      " [ 0.41828633]\n",
      " [ 0.4190793 ]\n",
      " [ 0.41909437]]\n"
     ]
    }
   ],
   "source": [
    "# Lasso Regression\n",
    "from sklearn.linear_model import Lasso\n",
    "\n",
    "#initialise arrays to store the scores \n",
    "lasso_score_train = np.zeros((7,1))\n",
    "lasso_score_val = np.zeros((7,1))\n",
    "\n",
    "for i, C in enumerate((1000,100,10,1, 0.1, 0.01,0.001)):\n",
    "    lasso_regressor = Lasso(alpha=C, fit_intercept = True)\n",
    "    lasso_regressor.fit(X_train,y_train)\n",
    "    lasso_score_train[i,:] = lasso_regressor.score(X_train,y_train)\n",
    "    lasso_score_val[i,:] = lasso_regressor.score(X_val,y_val)\n",
    "    \n",
    "print('training score \\n', lasso_score_train)\n",
    "print('validation score \\n', lasso_score_val)"
   ]
  },
  {
   "cell_type": "code",
   "execution_count": null,
   "metadata": {},
   "outputs": [],
   "source": []
  }
 ],
 "metadata": {
  "kernelspec": {
   "display_name": "Python 3",
   "language": "python",
   "name": "python3"
  },
  "language_info": {
   "codemirror_mode": {
    "name": "ipython",
    "version": 3
   },
   "file_extension": ".py",
   "mimetype": "text/x-python",
   "name": "python",
   "nbconvert_exporter": "python",
   "pygments_lexer": "ipython3",
   "version": "3.7.1"
  }
 },
 "nbformat": 4,
 "nbformat_minor": 2
}
