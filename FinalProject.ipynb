{
 "cells": [
  {
   "cell_type": "code",
   "execution_count": 1,
   "metadata": {},
   "outputs": [],
   "source": [
    "import data_utils as util\n",
    "import numpy as np\n",
    "from sklearn.model_selection import train_test_split\n",
    "from matplotlib import pyplot as plt\n",
    "from sklearn.metrics import mean_squared_error\n",
    "import pandas as pd\n",
    "import exp_util"
   ]
  },
  {
   "cell_type": "markdown",
   "metadata": {},
   "source": [
    "# data preprocessing"
   ]
  },
  {
   "cell_type": "code",
   "execution_count": 2,
   "metadata": {},
   "outputs": [],
   "source": [
    "#######################################################\n",
    "# Load the feature header\n",
    "#######################################################\n",
    "import csv\n",
    "\n",
    "# read the csv file\n",
    "feature_names = []\n",
    "with open('./data/header.csv') as f:\n",
    "    reader = csv.reader(f)\n",
    "    for line in reader:\n",
    "        feature_names.append(line)\n",
    "\n",
    "# Dirty tricks to clean up the feature names\n",
    "feature_names = feature_names[0]\n",
    "feature_names = list(map(lambda x: x.replace(' ', '_'), feature_names))\n",
    "feature_names[0] = 'PharmGKB_Subject_ID' # manual fix to remove a character in f...[0]"
   ]
  },
  {
   "cell_type": "code",
   "execution_count": 3,
   "metadata": {},
   "outputs": [],
   "source": [
    "####################################################################\n",
    "# Load the dataframe into X; clean up some unnecessary columns \n",
    "####################################################################\n",
    "\n",
    "# Load data and process column names\n",
    "df = pd.read_csv('./data/warfarin_with_dose.csv', names = feature_names)\n",
    "#keep_default_na=False)\n",
    "df.columns = [c.replace(' ', '_') for c in df.columns]\n",
    "\n",
    "# Extract the label (Warfarin dose) from the rest of the features\n",
    "y = df.Therapeutic_Dose_of_Warfarin\n",
    "X = df.drop('Therapeutic_Dose_of_Warfarin',axis=1)\n",
    "feature_names.remove('Therapeutic_Dose_of_Warfarin')\n",
    "\n",
    "# Drop Subject_ID (irrelevant) and Medication (different to encode)\n",
    "X = X.drop('PharmGKB_Subject_ID',axis=1)\n",
    "X = X.drop('Medications',axis=1)\n",
    "X = X.drop('Comorbidities',axis=1)\n",
    "feature_names.remove('PharmGKB_Subject_ID')\n",
    "feature_names.remove('Medications')\n",
    "feature_names.remove('Comorbidities')"
   ]
  },
  {
   "cell_type": "code",
   "execution_count": 4,
   "metadata": {},
   "outputs": [],
   "source": [
    "y = y>30 #this line converts labels to binary"
   ]
  },
  {
   "cell_type": "code",
   "execution_count": 5,
   "metadata": {},
   "outputs": [],
   "source": [
    "####################################################################\n",
    "# Encode different features with numeric/label/onehot encodings \n",
    "####################################################################\n",
    "numeric_features = ['Height_(cm)',\n",
    "                    'Weight_(kg)',\n",
    "                    'Target_INR',\n",
    "                    'INR_on_Reported_Therapeutic_Dose_of_Warfarin',\n",
    "                    ]\n",
    "label_features =   ['Age',\n",
    "                    'Estimated_Target_INR_Range_Based_on_Indication']\n",
    "categorical_features = [f for f in feature_names \\\n",
    "                        if f not in numeric_features and f not in label_features]\n",
    "\n",
    "for feat in categorical_features:\n",
    "    X[feat] = X[feat].astype(str)"
   ]
  },
  {
   "cell_type": "code",
   "execution_count": 6,
   "metadata": {
    "scrolled": true
   },
   "outputs": [],
   "source": [
    "from sklearn.compose import ColumnTransformer\n",
    "from sklearn.pipeline import Pipeline\n",
    "from sklearn.preprocessing import OrdinalEncoder, OneHotEncoder, StandardScaler\n",
    "from sklearn.impute import SimpleImputer\n",
    "\n",
    "# We create the preprocessing pipelines for both numeric and categorical data.\n",
    "numeric_transformer = Pipeline(steps=[\n",
    "    ('imputer', SimpleImputer(strategy='median')),\n",
    "    ('scaler', StandardScaler())])\n",
    "\n",
    "label_transformer = Pipeline(steps=[\n",
    "    ('imputer', SimpleImputer(strategy='constant', fill_value='0-missing')),\n",
    "    ('ordinal', OrdinalEncoder())])\n",
    "\n",
    "categorical_transformer = Pipeline(steps=[\n",
    "    ('imputer', SimpleImputer(strategy='constant', fill_value='missing')),\n",
    "    ('onehot', OneHotEncoder(handle_unknown='ignore',sparse=False))])\n",
    "\n",
    "preprocessor = ColumnTransformer(\n",
    "    transformers=[\n",
    "        ('num', numeric_transformer, numeric_features),\n",
    "        ('lab', label_transformer, label_features),\n",
    "        ('cat', categorical_transformer, categorical_features)]\n",
    ")\n"
   ]
  },
  {
   "cell_type": "code",
   "execution_count": 7,
   "metadata": {},
   "outputs": [],
   "source": [
    "X_transformed = preprocessor.fit_transform(X)"
   ]
  },
  {
   "cell_type": "code",
   "execution_count": 8,
   "metadata": {
    "scrolled": false
   },
   "outputs": [
    {
     "data": {
      "text/plain": [
       "(5528, 259)"
      ]
     },
     "execution_count": 8,
     "metadata": {},
     "output_type": "execute_result"
    }
   ],
   "source": [
    "X_transformed.shape"
   ]
  },
  {
   "cell_type": "markdown",
   "metadata": {},
   "source": [
    "# Train Validation Test Split"
   ]
  },
  {
   "cell_type": "code",
   "execution_count": 9,
   "metadata": {},
   "outputs": [],
   "source": [
    "# Split the data into train, val and test\n",
    "X_trainval, X_test, y_trainval, y_test = train_test_split(X_transformed, y, test_size=0.2, random_state=5)\n",
    "X_train, X_val, y_train, y_val = train_test_split(X_trainval, y_trainval, test_size = 0.2, random_state = 5)"
   ]
  },
  {
   "cell_type": "markdown",
   "metadata": {},
   "source": [
    "# Learning"
   ]
  },
  {
   "cell_type": "code",
   "execution_count": null,
   "metadata": {},
   "outputs": [],
   "source": [
    "# Linear regression\n",
    "from sklearn.linear_model import LinearRegression\n",
    "\n",
    "lr_regressor = LinearRegression(fit_intercept = True)\n",
    "lr_regressor.fit(X_train, y_train)\n",
    "print(lr_regressor.score(X_val, y_val))\n",
    "print(lr_regressor.score(X_train, y_train))\n",
    "\n",
    "y_pred = lr_regressor.predict(X_val)\n",
    "print(mean_squared_error(y_val,y_pred))\n",
    "print(np.mean(y_val))\n",
    "coef = lr_regressor.coef_\n",
    "print(coef)"
   ]
  },
  {
   "cell_type": "code",
   "execution_count": null,
   "metadata": {},
   "outputs": [],
   "source": [
    "# SVM\n",
    "from sklearn.svm import SVR\n",
    "\n",
    "svm_regressor = SVR(kernel='rbf', gamma='auto')\n",
    "svm_regressor.fit(X_train, y_train)\n",
    "svm_regressor.score(X_val, y_val)"
   ]
  },
  {
   "cell_type": "code",
   "execution_count": null,
   "metadata": {
    "scrolled": true
   },
   "outputs": [],
   "source": [
    "# SVM with various hyperparameters\n",
    "from sklearn.svm import SVR\n",
    "\n",
    "#initialise arrays to store the scores \n",
    "svm_score_train = np.zeros((7,1))\n",
    "svm_score_val = np.zeros((7,1))\n",
    "\n",
    "for i, C in enumerate((1000,100,10,1, 0.1, 0.01,0.001)):\n",
    "    svm_regressor = SVR(kernel='rbf', gamma='auto', C=C)\n",
    "    svm_regressor.fit(X_train,y_train)\n",
    "    svm_score_train[i,:] = svm_regressor.score(X_train,y_train)\n",
    "    svm_score_val[i,:] = svm_regressor.score(X_val,y_val)\n",
    "    \n",
    "print('training score \\n', svm_score_train)\n",
    "print('validation score \\n', svm_score_val)\n",
    "\n",
    "\n"
   ]
  },
  {
   "cell_type": "code",
   "execution_count": null,
   "metadata": {
    "scrolled": true
   },
   "outputs": [],
   "source": [
    "# Ridge Regression\n",
    "from sklearn.linear_model import Ridge\n",
    "\n",
    "#initialise arrays to store the scores \n",
    "ridge_score_train = np.zeros(7)\n",
    "ridge_score_val = np.zeros(7)\n",
    "\n",
    "for i, C in enumerate((1000,100,10,1, 0.1, 0.01,0.001)):\n",
    "    ridge_regressor = Ridge(alpha=1/C, fit_intercept = True)\n",
    "    ridge_regressor.fit(X_train,y_train)\n",
    "    ridge_score_train[i] = ridge_regressor.score(X_train,y_train)\n",
    "    ridge_score_val[i] = ridge_regressor.score(X_val,y_val)\n",
    "    \n",
    "print('training score \\n', ridge_score_train)\n",
    "print('validation score \\n', ridge_score_val)\n",
    "\n",
    "best_ridge = Ridge(alpha = 1, fit_intercept = True)\n",
    "best_ridge.fit(X_train,y_train)\n",
    "y_pred = best_ridge.predict(X_val)\n",
    "print(np.sqrt(mean_squared_error(y_val,y_pred)))\n",
    "# print(np.mean(y_val))\n",
    "\n",
    "# print(best_ridge.coef_)"
   ]
  },
  {
   "cell_type": "code",
   "execution_count": null,
   "metadata": {
    "scrolled": true
   },
   "outputs": [],
   "source": [
    "xaxis = [0.001,0.01,0.1,1,10,100,1000] #values of lambda used\n",
    "plt.plot(xaxis,ridge_score_train, label = 'training')\n",
    "plt.plot(xaxis,ridge_score_val, label = 'validation')\n",
    "plt.xlabel('lambda')\n",
    "plt.ylabel('score')\n",
    "plt.legend()\n",
    "plt.xscale('log')\n",
    "plt.title('Accuracy vs Lambda - Ridge Penalty')\n",
    "plt.savefig('Ridge.png')"
   ]
  },
  {
   "cell_type": "code",
   "execution_count": null,
   "metadata": {
    "scrolled": true
   },
   "outputs": [],
   "source": [
    "# Lasso Regression\n",
    "from sklearn.linear_model import Lasso\n",
    "\n",
    "#initialise arrays to store the scores \n",
    "lasso_score_train = np.zeros(7)\n",
    "lasso_score_val = np.zeros(7)\n",
    "\n",
    "for i, C in enumerate((1000,100,10,1, 0.1, 0.01,0.001)):\n",
    "    lasso_regressor = Lasso(alpha=1/C, fit_intercept = True)\n",
    "    lasso_regressor.fit(X_train,y_train)\n",
    "    lasso_score_train[i] = lasso_regressor.score(X_train,y_train)\n",
    "    lasso_score_val[i] = lasso_regressor.score(X_val,y_val)\n",
    "    \n",
    "print('training score \\n', lasso_score_train)\n",
    "print('validation score \\n', lasso_score_val)\n",
    "\n",
    "best_lasso = Lasso(alpha = 0.01, fit_intercept = True)\n",
    "best_lasso.fit(X_train,y_train)\n",
    "y_pred = best_lasso.predict(X_val)\n",
    "print(np.sqrt(mean_squared_error(y_val,y_pred)))\n",
    "# print(np.mean(y_val))\n",
    "\n",
    "# print(best_lasso.coef_)"
   ]
  },
  {
   "cell_type": "code",
   "execution_count": null,
   "metadata": {
    "scrolled": true
   },
   "outputs": [],
   "source": [
    "xaxis = [0.001,0.01,0.1,1,10,100,1000] #values of lambda used\n",
    "plt.plot(xaxis,lasso_score_train, label = 'training')\n",
    "plt.plot(xaxis,lasso_score_val, label = 'validation')\n",
    "plt.xlabel('lambda')\n",
    "plt.ylabel('score')\n",
    "plt.legend()\n",
    "plt.xscale('log')\n",
    "plt.title('Accuracy vs Lambda - Lasso Penalty')\n",
    "plt.savefig('Lasso.png')"
   ]
  },
  {
   "cell_type": "code",
   "execution_count": null,
   "metadata": {},
   "outputs": [],
   "source": [
    "# MLP regressor\n",
    "from sklearn.neural_network import MLPRegressor\n",
    "\n",
    "nn_regressor = MLPRegressor() #use default settings\n",
    "nn_regressor.fit(X_train, y_train)\n",
    "print(nn_regressor.score(X_val, y_val))\n",
    "print(nn_regressor.score(X_train, y_train))\n",
    "\n",
    "y_pred = nn_regressor.predict(X_val)\n",
    "print(mean_squared_error(y_val,y_pred))\n",
    "print(np.mean(y_val))\n",
    "\n"
   ]
  },
  {
   "cell_type": "code",
   "execution_count": null,
   "metadata": {},
   "outputs": [],
   "source": [
    "# non-nested cross validation using RBF SVM\n",
    "from sklearn.model_selection import GridSearchCV\n",
    "\n",
    "rbf = SVR(kernel='rbf')\n",
    "gammas = np.logspace(-6, 0, 7)\n",
    "params = {'gamma': gammas}\n",
    "gridcv = GridSearchCV(estimator=rbf, param_grid=params, cv=5)\n",
    "gridcv.fit(X_trainval, y_trainval)\n",
    "scores_mean = gridcv.cv_results_['mean_test_score']\n",
    "scores_sd = gridcv.cv_results_['std_test_score']\n",
    "print('highest accuracy score is',gridcv.best_score_)\n",
    "model = gridcv.best_estimator_"
   ]
  },
  {
   "cell_type": "code",
   "execution_count": null,
   "metadata": {},
   "outputs": [],
   "source": [
    "# non-nested cross validation using Ridge\n",
    "from sklearn.model_selection import GridSearchCV\n",
    "\n",
    "ridge_regressor = Ridge(fit_intercept = True)\n",
    "params={'alpha': [25,10,4,2,1.0,0.8,0.5,0.3,0.2,0.1,0.05,0.02,0.01]}\n",
    "\n",
    "gridcv = GridSearchCV(estimator=ridge_regressor, param_grid=params, cv=10)\n",
    "gridcv.fit(X_trainval, y_trainval)\n",
    "scores_mean = gridcv.cv_results_['mean_test_score']\n",
    "scores_sd = gridcv.cv_results_['std_test_score']\n",
    "print('highest accuracy score is',gridcv.best_score_)\n",
    "model = gridcv.best_estimator_"
   ]
  },
  {
   "cell_type": "markdown",
   "metadata": {},
   "source": [
    "## classification results"
   ]
  },
  {
   "cell_type": "code",
   "execution_count": null,
   "metadata": {
    "scrolled": false
   },
   "outputs": [],
   "source": [
    "exp_util.val_bin_accuracy(lr_regressor, X_val, y_val)"
   ]
  },
  {
   "cell_type": "code",
   "execution_count": null,
   "metadata": {},
   "outputs": [],
   "source": [
    "exp_util.val_bin_accuracy(best_ridge, X_val, y_val)"
   ]
  },
  {
   "cell_type": "code",
   "execution_count": null,
   "metadata": {},
   "outputs": [],
   "source": [
    "exp_util.val_bin_accuracy(best_lasso, X_val, y_val)"
   ]
  },
  {
   "cell_type": "code",
   "execution_count": null,
   "metadata": {},
   "outputs": [],
   "source": [
    "exp_util.val_bin_accuracy_two_classes(best_ridge, X_val, y_val)"
   ]
  },
  {
   "cell_type": "code",
   "execution_count": null,
   "metadata": {},
   "outputs": [],
   "source": [
    "exp_util.val_bin_accuracy_two_classes(best_lasso, X_val, y_val)"
   ]
  },
  {
   "cell_type": "code",
   "execution_count": null,
   "metadata": {},
   "outputs": [],
   "source": [
    "exp_util.val_bin_accuracy_two_classes(nn_regressor, X_val, y_val)"
   ]
  },
  {
   "cell_type": "markdown",
   "metadata": {},
   "source": [
    "# generates detailed results in classification"
   ]
  },
  {
   "cell_type": "code",
   "execution_count": null,
   "metadata": {},
   "outputs": [],
   "source": [
    "loss, TP, FP, TN, FN = exp_util.val_bin_accuracy_with_con_matrix(best_ridge, X_val, y_val)\n",
    "print(loss)\n",
    "print(TP)\n",
    "print(FP)\n",
    "print(TN)\n",
    "print(FN)\n",
    "\n",
    "print(TP + FP + TN + FN)"
   ]
  },
  {
   "cell_type": "code",
   "execution_count": null,
   "metadata": {},
   "outputs": [],
   "source": [
    "accuracy, sensitivity, specificity, precision_plus, precision_minus =exp_util.get_classification_metrics(\n",
    "    best_ridge, X_val, y_val)\n",
    "print(accuracy) #benchmark = 66%\n",
    "print(sensitivity) #benchmark = 63%\n",
    "print(specificity) #benchmark = 73%\n",
    "print(precision_plus) #benchmark = 81%\n",
    "print(precision_minus) #benchmark = 50%"
   ]
  },
  {
   "cell_type": "markdown",
   "metadata": {},
   "source": [
    "# While we seem to do better in many of the metrics, we obtained lower precision (plus). Interesting.\n",
    "# To discuss, which metric is more important in our context? "
   ]
  },
  {
   "cell_type": "markdown",
   "metadata": {},
   "source": [
    "# plotting ROC curve"
   ]
  },
  {
   "cell_type": "code",
   "execution_count": null,
   "metadata": {
    "scrolled": true
   },
   "outputs": [],
   "source": [
    "# Ridge Regression\n",
    "from sklearn.linear_model import Ridge\n",
    "\n",
    "#initialise arrays to store the scores \n",
    "ridge_score_train = np.zeros(7)\n",
    "ridge_score_val = np.zeros(7)\n",
    "ridge_score_specificity = np.zeros(7)\n",
    "ridge_score_sensitivity = np.zeros(7)\n",
    "\n",
    "for i, C in enumerate((1000,100,10,1, 0.1, 0.01,0.001)):\n",
    "    ridge_regressor = Ridge(alpha=1/C, fit_intercept = True)\n",
    "    ridge_regressor.fit(X_train,y_train)\n",
    "    ridge_score_train[i] = ridge_regressor.score(X_train,y_train)\n",
    "    ridge_score_val[i] = ridge_regressor.score(X_val,y_val)\n",
    "    \n",
    "    accuracy, sensitivity, specificity, precision_plus, precision_minus =exp_util.get_classification_metrics(\n",
    "    ridge_regressor, X_val, y_val)\n",
    "    ridge_score_sensitivity[i] = sensitivity\n",
    "    ridge_score_specificity[i] = specificity\n",
    "    \n",
    "print('training score \\n', ridge_score_train)\n",
    "print('validation score \\n', ridge_score_val)\n",
    "print('specificity \\n', ridge_score_specificity)\n",
    "print('sensitivity \\n', ridge_score_sensitivity)\n",
    "\n",
    "\n",
    "\n",
    "xaxis = [0.001,0.01,0.1,1,10,100,1000] #values of lambda used\n",
    "plt.plot(ridge_score_sensitivity,ridge_score_specificity)\n",
    "plt.xlabel('sensitivity')\n",
    "plt.ylabel('specificity')\n",
    "plt.legend()\n",
    "plt.title('Specificity vs Sensitivity - Ridge Penalty')\n",
    "plt.savefig('Ridge_class.png')"
   ]
  },
  {
   "cell_type": "markdown",
   "metadata": {},
   "source": [
    "## classification models"
   ]
  },
  {
   "cell_type": "code",
   "execution_count": 23,
   "metadata": {},
   "outputs": [
    {
     "name": "stdout",
     "output_type": "stream",
     "text": [
      "accuracy values\n",
      "[0.43841808 0.63050847 0.70960452 0.7480226  0.7819209  0.79548023\n",
      " 0.77740113 0.74915254 0.7039548  0.64519774 0.56158192]\n",
      "sensitivity values\n",
      "[1.         0.96649485 0.93814433 0.8814433  0.83505155 0.76804124\n",
      " 0.64690722 0.5257732  0.38402062 0.21907216 0.        ]\n",
      "specificity values\n",
      "[0.         0.36820926 0.53118712 0.64386318 0.74044266 0.81690141\n",
      " 0.87927565 0.92354125 0.95372233 0.9778672  1.        ]\n"
     ]
    },
    {
     "name": "stderr",
     "output_type": "stream",
     "text": [
      "C:\\Users\\zhiqi\\Anaconda3\\lib\\site-packages\\sklearn\\linear_model\\logistic.py:433: FutureWarning: Default solver will be changed to 'lbfgs' in 0.22. Specify a solver to silence this warning.\n",
      "  FutureWarning)\n",
      "C:\\Users\\zhiqi\\Anaconda3\\lib\\site-packages\\ipykernel_launcher.py:25: RuntimeWarning: invalid value encountered in longlong_scalars\n"
     ]
    }
   ],
   "source": [
    "# Logistic Regression\n",
    "from sklearn.linear_model import LogisticRegression\n",
    "from sklearn.metrics import confusion_matrix, auc, roc_auc_score\n",
    "\n",
    "log_regressor = LogisticRegression()\n",
    "log_regressor.fit(X_train,y_train)\n",
    "\n",
    "#predict = log_regressor.predict(X_val) #this implements default threshold of 0.5\n",
    "\n",
    "threshold = np.arange(0,1.1,0.1)\n",
    "accuracy = np.zeros(len(threshold))\n",
    "sensitivity = np.zeros(len(threshold))\n",
    "specificity = np.zeros(len(threshold))\n",
    "precision = np.zeros(len(threshold))\n",
    "\n",
    "for i in range(len(threshold)):\n",
    "    \n",
    "    predict = (log_regressor.predict_proba(X_val)[:,1] >= threshold[i]).astype(int)\n",
    "\n",
    "    TN, FP, FN, TP = confusion_matrix(y_val,predict).ravel()\n",
    "\n",
    "    accuracy[i] = np.mean(predict == y_val)\n",
    "    sensitivity[i] = TP / (TP + FN)\n",
    "    specificity[i] = TN / (TN + FP)\n",
    "    precision[i] = TP / (TP + FP)\n",
    "\n",
    "recall = sensitivity.copy()\n",
    "\n",
    "print('accuracy values')\n",
    "print(accuracy)\n",
    "print('sensitivity values')\n",
    "print(sensitivity)\n",
    "print('specificity values')\n",
    "print(specificity)\n",
    "\n"
   ]
  },
  {
   "cell_type": "code",
   "execution_count": 24,
   "metadata": {},
   "outputs": [
    {
     "name": "stdout",
     "output_type": "stream",
     "text": [
      "auc\n",
      "0.857451409487855\n"
     ]
    },
    {
     "data": {
      "image/png": "[encoded data removed]",
      "text/plain": [
       "<Figure size 432x288 with 1 Axes>"
      ]
     },
     "metadata": {
      "needs_background": "light"
     },
     "output_type": "display_data"
    }
   ],
   "source": [
    "#note TPR = sensitivity, FPR = 1 - specificity\n",
    "#FPR is important because we want to avoid overdosing\n",
    "plt.plot(sensitivity, specificity)\n",
    "plt.xlabel('sensitivity = TPR')\n",
    "plt.ylabel('specificity = 1 - FPR')\n",
    "plt.title('ROC')\n",
    "plt.savefig('logreg_baseline_ROC.png')\n",
    "\n",
    "print('auc')\n",
    "print(auc(sensitivity,specificity)) #auc takes in arguments (x,y)"
   ]
  },
  {
   "cell_type": "code",
   "execution_count": null,
   "metadata": {},
   "outputs": [],
   "source": [
    "plt.plot(recall, precision)\n",
    "plt.xlabel('recall = TPR')\n",
    "plt.ylabel('precision')\n",
    "plt.title('PRC')\n",
    "\n",
    "print('auc')\n",
    "print(auc(recall,precision))\n"
   ]
  },
  {
   "cell_type": "markdown",
   "metadata": {},
   "source": [
    "## prediction on test set for unregularized model"
   ]
  },
  {
   "cell_type": "code",
   "execution_count": null,
   "metadata": {},
   "outputs": [],
   "source": [
    "#suppose best unregularized model corresponds to threshold = 0.6\n",
    "\n",
    "threshold = 0.6\n",
    "predict = (log_regressor.predict_proba(X_test)[:,1] >= threshold).astype(int)\n",
    "\n",
    "TN, FP, FN, TP = confusion_matrix(y_test,predict).ravel()\n",
    "\n",
    "accuracy = np.mean(predict == y_test)\n",
    "sensitivity = TP / (TP + FN)\n",
    "specificity = TN / (TN + FP)\n",
    "precision = TP / (TP + FP)\n",
    "\n",
    "recall = sensitivity.copy()\n",
    "\n",
    "print('classification on test set')\n",
    "print('accuracy')\n",
    "print(accuracy)\n",
    "print('sensitivity')\n",
    "print(sensitivity)\n",
    "print('specificity')\n",
    "print(specificity)\n"
   ]
  },
  {
   "cell_type": "markdown",
   "metadata": {},
   "source": [
    "# classification with L2 regularization"
   ]
  },
  {
   "cell_type": "code",
   "execution_count": 25,
   "metadata": {},
   "outputs": [
    {
     "name": "stdout",
     "output_type": "stream",
     "text": [
      "accuracy values\n",
      "[0.43841808 0.63050847 0.70960452 0.7480226  0.7819209  0.79548023\n",
      " 0.77740113 0.74915254 0.7039548  0.64519774 0.56158192]\n",
      "sensitivity values\n",
      "[1.         0.96649485 0.93814433 0.8814433  0.83505155 0.76804124\n",
      " 0.64690722 0.5257732  0.38402062 0.21907216 0.        ]\n",
      "specificity values\n",
      "[0.         0.36820926 0.53118712 0.64386318 0.74044266 0.81690141\n",
      " 0.87927565 0.92354125 0.95372233 0.9778672  1.        ]\n"
     ]
    },
    {
     "name": "stderr",
     "output_type": "stream",
     "text": [
      "C:\\Users\\zhiqi\\Anaconda3\\lib\\site-packages\\sklearn\\linear_model\\logistic.py:433: FutureWarning: Default solver will be changed to 'lbfgs' in 0.22. Specify a solver to silence this warning.\n",
      "  FutureWarning)\n",
      "C:\\Users\\zhiqi\\Anaconda3\\lib\\site-packages\\ipykernel_launcher.py:23: RuntimeWarning: invalid value encountered in longlong_scalars\n"
     ]
    }
   ],
   "source": [
    "# Logistic Regression with L2 regularization\n",
    "\n",
    "log_regressor_L2reg = LogisticRegression(penalty = 'l2', C = 1) #set L2 penalty\n",
    "log_regressor_L2reg.fit(X_train,y_train)\n",
    "\n",
    "#predict = log_regressor.predict(X_val) #this implements default threshold of 0.5\n",
    "\n",
    "threshold = np.arange(0,1.1,0.1)\n",
    "accuracy = np.zeros(len(threshold))\n",
    "sensitivity = np.zeros(len(threshold))\n",
    "specificity = np.zeros(len(threshold))\n",
    "precision = np.zeros(len(threshold))\n",
    "\n",
    "for i in range(len(threshold)):\n",
    "    \n",
    "    predict = (log_regressor_L2reg.predict_proba(X_val)[:,1] >= threshold[i]).astype(int)\n",
    "\n",
    "    TN, FP, FN, TP = confusion_matrix(y_val,predict).ravel()\n",
    "\n",
    "    accuracy[i] = np.mean(predict == y_val)\n",
    "    sensitivity[i] = TP / (TP + FN)\n",
    "    specificity[i] = TN / (TN + FP)\n",
    "    precision[i] = TP / (TP + FP)\n",
    "\n",
    "recall = sensitivity.copy()\n",
    "\n",
    "print('accuracy values')\n",
    "print(accuracy)\n",
    "print('sensitivity values')\n",
    "print(sensitivity)\n",
    "print('specificity values')\n",
    "print(specificity)"
   ]
  },
  {
   "cell_type": "code",
   "execution_count": 26,
   "metadata": {},
   "outputs": [
    {
     "name": "stdout",
     "output_type": "stream",
     "text": [
      "auc\n",
      "0.857451409487855\n"
     ]
    },
    {
     "data": {
      "image/png": "[encoded data removed]",
      "text/plain": [
       "<Figure size 432x288 with 1 Axes>"
      ]
     },
     "metadata": {
      "needs_background": "light"
     },
     "output_type": "display_data"
    }
   ],
   "source": [
    "#note TPR = sensitivity, FPR = 1 - specificity\n",
    "#FPR is important because we want to avoid overdosing\n",
    "plt.plot(sensitivity, specificity)\n",
    "plt.xlabel('sensitivity = TPR')\n",
    "plt.ylabel('specificity = 1 - FPR')\n",
    "plt.title('ROC')\n",
    "\n",
    "print('auc')\n",
    "print(auc(sensitivity,specificity)) #auc takes in arguments (x,y)"
   ]
  },
  {
   "cell_type": "code",
   "execution_count": 27,
   "metadata": {},
   "outputs": [
    {
     "name": "stdout",
     "output_type": "stream",
     "text": [
      "auc\n",
      "nan\n"
     ]
    },
    {
     "data": {
      "image/png": "[encoded data removed]",
      "text/plain": [
       "<Figure size 432x288 with 1 Axes>"
      ]
     },
     "metadata": {
      "needs_background": "light"
     },
     "output_type": "display_data"
    }
   ],
   "source": [
    "plt.plot(recall, precision)\n",
    "plt.xlabel('recall = TPR')\n",
    "plt.ylabel('precision')\n",
    "plt.title('PRC')\n",
    "\n",
    "print('auc')\n",
    "print(auc(recall,precision))"
   ]
  },
  {
   "cell_type": "code",
   "execution_count": 28,
   "metadata": {},
   "outputs": [
    {
     "name": "stderr",
     "output_type": "stream",
     "text": [
      "C:\\Users\\zhiqi\\Anaconda3\\lib\\site-packages\\sklearn\\linear_model\\logistic.py:758: ConvergenceWarning: lbfgs failed to converge. Increase the number of iterations.\n",
      "  \"of iterations.\", ConvergenceWarning)\n",
      "C:\\Users\\zhiqi\\Anaconda3\\lib\\site-packages\\ipykernel_launcher.py:27: RuntimeWarning: invalid value encountered in longlong_scalars\n",
      "C:\\Users\\zhiqi\\Anaconda3\\lib\\site-packages\\sklearn\\linear_model\\logistic.py:758: ConvergenceWarning: lbfgs failed to converge. Increase the number of iterations.\n",
      "  \"of iterations.\", ConvergenceWarning)\n",
      "C:\\Users\\zhiqi\\Anaconda3\\lib\\site-packages\\ipykernel_launcher.py:27: RuntimeWarning: invalid value encountered in longlong_scalars\n",
      "C:\\Users\\zhiqi\\Anaconda3\\lib\\site-packages\\sklearn\\linear_model\\logistic.py:758: ConvergenceWarning: lbfgs failed to converge. Increase the number of iterations.\n",
      "  \"of iterations.\", ConvergenceWarning)\n",
      "C:\\Users\\zhiqi\\Anaconda3\\lib\\site-packages\\ipykernel_launcher.py:27: RuntimeWarning: invalid value encountered in longlong_scalars\n",
      "C:\\Users\\zhiqi\\Anaconda3\\lib\\site-packages\\sklearn\\linear_model\\logistic.py:758: ConvergenceWarning: lbfgs failed to converge. Increase the number of iterations.\n",
      "  \"of iterations.\", ConvergenceWarning)\n",
      "C:\\Users\\zhiqi\\Anaconda3\\lib\\site-packages\\ipykernel_launcher.py:27: RuntimeWarning: invalid value encountered in longlong_scalars\n",
      "C:\\Users\\zhiqi\\Anaconda3\\lib\\site-packages\\sklearn\\linear_model\\logistic.py:758: ConvergenceWarning: lbfgs failed to converge. Increase the number of iterations.\n",
      "  \"of iterations.\", ConvergenceWarning)\n",
      "C:\\Users\\zhiqi\\Anaconda3\\lib\\site-packages\\ipykernel_launcher.py:27: RuntimeWarning: invalid value encountered in longlong_scalars\n",
      "C:\\Users\\zhiqi\\Anaconda3\\lib\\site-packages\\ipykernel_launcher.py:27: RuntimeWarning: invalid value encountered in longlong_scalars\n"
     ]
    },
    {
     "name": "stdout",
     "output_type": "stream",
     "text": [
      "accuracy values\n",
      "[[0.43841808 0.63276836 0.70960452 0.75819209 0.77627119 0.7920904\n",
      "  0.7740113  0.75932203 0.71073446 0.65310734 0.56158192]\n",
      " [0.43841808 0.63276836 0.71186441 0.7559322  0.7740113  0.79096045\n",
      "  0.77514124 0.76384181 0.71299435 0.6519774  0.56158192]\n",
      " [0.43841808 0.63615819 0.70734463 0.7559322  0.77740113 0.79322034\n",
      "  0.7740113  0.76158192 0.71412429 0.65423729 0.56158192]\n",
      " [0.43841808 0.63050847 0.71073446 0.74915254 0.78418079 0.7920904\n",
      "  0.77740113 0.75028249 0.7039548  0.64632768 0.56158192]\n",
      " [0.43841808 0.61355932 0.6960452  0.74576271 0.77853107 0.79096045\n",
      "  0.76723164 0.73785311 0.70282486 0.62259887 0.56158192]\n",
      " [0.43841808 0.57853107 0.65988701 0.72881356 0.76158192 0.78418079\n",
      "  0.75480226 0.71864407 0.65649718 0.59322034 0.56158192]\n",
      " [0.43841808 0.45310734 0.56384181 0.65649718 0.73446328 0.75254237\n",
      "  0.70169492 0.62485876 0.57288136 0.56158192 0.56158192]]\n",
      "sensitivity values\n",
      "[[1.         0.96134021 0.93041237 0.88402062 0.82989691 0.76030928\n",
      "  0.65979381 0.54896907 0.40463918 0.2371134  0.        ]\n",
      " [1.         0.96134021 0.93556701 0.8814433  0.82731959 0.7628866\n",
      "  0.65979381 0.56185567 0.40979381 0.23453608 0.        ]\n",
      " [1.         0.96134021 0.93041237 0.8814433  0.83505155 0.7628866\n",
      "  0.65463918 0.55670103 0.40979381 0.23969072 0.        ]\n",
      " [1.         0.96649485 0.93814433 0.8814433  0.84020619 0.76546392\n",
      "  0.64690722 0.52835052 0.38402062 0.22164948 0.        ]\n",
      " [1.         0.96907216 0.95103093 0.89175258 0.84278351 0.76030928\n",
      "  0.62886598 0.49484536 0.36340206 0.15721649 0.        ]\n",
      " [1.         0.98195876 0.95876289 0.91752577 0.84278351 0.73195876\n",
      "  0.58247423 0.42783505 0.25       0.07731959 0.        ]\n",
      " [1.         1.         0.9871134  0.95876289 0.87113402 0.67010309\n",
      "  0.40979381 0.16494845 0.02835052 0.00257732 0.        ]]\n",
      "specificity values\n",
      "[[0.         0.37625755 0.53722334 0.65995976 0.73440644 0.81690141\n",
      "  0.86317907 0.92354125 0.94969819 0.9778672  1.        ]\n",
      " [0.         0.37625755 0.53722334 0.65794769 0.73239437 0.81287726\n",
      "  0.86519115 0.92152918 0.94969819 0.9778672  1.        ]\n",
      " [0.         0.38229376 0.5331992  0.65794769 0.73239437 0.81690141\n",
      "  0.86720322 0.92152918 0.95171026 0.9778672  1.        ]\n",
      " [0.         0.36820926 0.5331992  0.64587525 0.74044266 0.81287726\n",
      "  0.87927565 0.92354125 0.95372233 0.9778672  1.        ]\n",
      " [0.         0.3360161  0.49698189 0.63179074 0.72837022 0.81488934\n",
      "  0.87525151 0.92756539 0.96780684 0.98591549 1.        ]\n",
      " [0.         0.26358149 0.42655936 0.58148893 0.69818913 0.8249497\n",
      "  0.88933602 0.94567404 0.97384306 0.99597586 1.        ]\n",
      " [0.         0.02615694 0.2334004  0.42052314 0.6277666  0.81690141\n",
      "  0.92957746 0.98390342 0.99798793 0.99798793 1.        ]]\n"
     ]
    },
    {
     "name": "stderr",
     "output_type": "stream",
     "text": [
      "C:\\Users\\zhiqi\\Anaconda3\\lib\\site-packages\\ipykernel_launcher.py:27: RuntimeWarning: invalid value encountered in longlong_scalars\n"
     ]
    }
   ],
   "source": [
    "# Logistic Regression with L2 regularization\n",
    "alpha = np.logspace(-3,3,7)\n",
    "C = 1/alpha\n",
    "threshold = np.arange(0,1.1,0.1)\n",
    "accuracy = np.zeros( (len(C) , len(threshold)) )\n",
    "sensitivity = np.zeros( (len(C) , len(threshold)) )\n",
    "specificity = np.zeros( (len(C) , len(threshold)) )\n",
    "precision = np.zeros( (len(C) , len(threshold)) )\n",
    "\n",
    "for k in range(len(alpha)):\n",
    "    log_regressor_L2reg = LogisticRegression(penalty = 'l2', C = C[k], solver = 'lbfgs') #set L2 penalty, C is inverse of reg strength\n",
    "    log_regressor_L2reg.fit(X_train,y_train)\n",
    "\n",
    "    #predict = log_regressor.predict(X_val) #this implements default threshold of 0.5\n",
    "\n",
    "\n",
    "\n",
    "    for i in range(len(threshold)):\n",
    "\n",
    "        predict = (log_regressor_L2reg.predict_proba(X_val)[:,1] >= threshold[i]).astype(int)\n",
    "\n",
    "        TN, FP, FN, TP = confusion_matrix(y_val,predict).ravel()\n",
    "\n",
    "        accuracy[k,i] = np.mean(predict == y_val)\n",
    "        sensitivity[k,i] = TP / (TP + FN)\n",
    "        specificity[k,i] = TN / (TN + FP)\n",
    "        precision[k,i] = TP / (TP + FP)\n",
    "\n",
    "recall = sensitivity.copy()\n",
    "\n",
    "print('accuracy values')\n",
    "print(accuracy)\n",
    "print('sensitivity values')\n",
    "print(sensitivity)\n",
    "print('specificity values')\n",
    "print(specificity)"
   ]
  },
  {
   "cell_type": "code",
   "execution_count": 29,
   "metadata": {},
   "outputs": [
    {
     "name": "stdout",
     "output_type": "stream",
     "text": [
      "auc\n",
      "[0.8554523  0.85591124 0.85635462 0.85766921 0.85708581 0.85131926\n",
      " 0.82730662]\n"
     ]
    },
    {
     "data": {
      "image/png": "[encoded data removed]",
      "text/plain": [
       "<Figure size 432x288 with 1 Axes>"
      ]
     },
     "metadata": {
      "needs_background": "light"
     },
     "output_type": "display_data"
    }
   ],
   "source": [
    "#note TPR = sensitivity, FPR = 1 - specificity\n",
    "#FPR is important because we want to avoid overdosing\n",
    "num = len(alpha)\n",
    "AUC = np.zeros(num)\n",
    "for i in range(num):\n",
    "    plt.plot(sensitivity[i,:], specificity[i,:], label = alpha[i])\n",
    "    AUC[i] = auc(sensitivity[i,:],specificity[i,:])\n",
    "    \n",
    "plt.xlabel('sensitivity = TPR')\n",
    "plt.ylabel('specificity = 1 - FPR')\n",
    "plt.legend()\n",
    "plt.title('ROC')\n",
    "plt.savefig('logreg_L2regularized_ROC.png')\n",
    "\n",
    "print('auc')\n",
    "print(AUC) #auc takes in arguments (x,y)"
   ]
  },
  {
   "cell_type": "code",
   "execution_count": 30,
   "metadata": {},
   "outputs": [
    {
     "name": "stdout",
     "output_type": "stream",
     "text": [
      "1.0\n",
      "0.8576692111431475\n"
     ]
    }
   ],
   "source": [
    "best_reg_strength = alpha[np.argmax(AUC)]\n",
    "print(best_reg_strength)\n",
    "best_auc = AUC[np.argmax(AUC)]\n",
    "print(best_auc)"
   ]
  },
  {
   "cell_type": "markdown",
   "metadata": {},
   "source": [
    "# classification with L1 regularization"
   ]
  },
  {
   "cell_type": "code",
   "execution_count": 58,
   "metadata": {},
   "outputs": [
    {
     "name": "stderr",
     "output_type": "stream",
     "text": [
      "C:\\Users\\zhiqi\\Anaconda3\\lib\\site-packages\\sklearn\\linear_model\\logistic.py:433: FutureWarning: Default solver will be changed to 'lbfgs' in 0.22. Specify a solver to silence this warning.\n",
      "  FutureWarning)\n"
     ]
    },
    {
     "name": "stdout",
     "output_type": "stream",
     "text": [
      "accuracy values\n",
      "[0.43841808 0.63163842 0.71299435 0.75932203 0.78418079 0.78870056\n",
      " 0.78079096 0.75480226 0.71186441 0.65423729 0.56158192]\n",
      "sensitivity values\n",
      "[1.         0.96391753 0.93298969 0.88402062 0.83505155 0.75773196\n",
      " 0.65463918 0.54123711 0.40721649 0.2371134  0.        ]\n",
      "specificity values\n",
      "[0.         0.3722334  0.54124748 0.66197183 0.7444668  0.81287726\n",
      " 0.87927565 0.92152918 0.94969819 0.97987928 1.        ]\n"
     ]
    },
    {
     "name": "stderr",
     "output_type": "stream",
     "text": [
      "C:\\Users\\zhiqi\\Anaconda3\\lib\\site-packages\\ipykernel_launcher.py:26: RuntimeWarning: invalid value encountered in longlong_scalars\n"
     ]
    }
   ],
   "source": [
    "# Logistic Regression with L1 regularization\n",
    "from sklearn.linear_model import LogisticRegression\n",
    "from sklearn.metrics import confusion_matrix, auc, roc_auc_score\n",
    "\n",
    "\n",
    "log_regressor_L1reg = LogisticRegression(penalty = 'l1', C = 10) #set L1 penalty\n",
    "log_regressor_L1reg.fit(X_train,y_train)\n",
    "\n",
    "#predict = log_regressor.predict(X_val) #this implements default threshold of 0.5\n",
    "\n",
    "threshold = np.arange(0,1.1,0.1)\n",
    "accuracy = np.zeros(len(threshold))\n",
    "sensitivity = np.zeros(len(threshold))\n",
    "specificity = np.zeros(len(threshold))\n",
    "precision = np.zeros(len(threshold))\n",
    "\n",
    "for i in range(len(threshold)):\n",
    "    \n",
    "    predict = (log_regressor_L1reg.predict_proba(X_val)[:,1] >= threshold[i]).astype(int)\n",
    "\n",
    "    TN, FP, FN, TP = confusion_matrix(y_val,predict).ravel()\n",
    "\n",
    "    accuracy[i] = np.mean(predict == y_val)\n",
    "    sensitivity[i] = TP / (TP + FN)\n",
    "    specificity[i] = TN / (TN + FP)\n",
    "    precision[i] = TP / (TP + FP)\n",
    "\n",
    "recall = sensitivity.copy()\n",
    "\n",
    "print('accuracy values')\n",
    "print(accuracy)\n",
    "print('sensitivity values')\n",
    "print(sensitivity)\n",
    "print('specificity values')\n",
    "print(specificity)"
   ]
  },
  {
   "cell_type": "code",
   "execution_count": 59,
   "metadata": {},
   "outputs": [
    {
     "name": "stdout",
     "output_type": "stream",
     "text": [
      "auc\n",
      "0.8585093032421333\n"
     ]
    },
    {
     "data": {
      "image/png": "[encoded data removed]",
      "text/plain": [
       "<Figure size 432x288 with 1 Axes>"
      ]
     },
     "metadata": {
      "needs_background": "light"
     },
     "output_type": "display_data"
    }
   ],
   "source": [
    "#note TPR = sensitivity, FPR = 1 - specificity\n",
    "#FPR is important because we want to avoid overdosing\n",
    "plt.plot(sensitivity, specificity)\n",
    "plt.xlabel('sensitivity = TPR')\n",
    "plt.ylabel('specificity = 1 - FPR')\n",
    "plt.title('ROC')\n",
    "\n",
    "print('auc')\n",
    "print(auc(sensitivity,specificity)) #auc takes in arguments (x,y)"
   ]
  },
  {
   "cell_type": "code",
   "execution_count": 55,
   "metadata": {},
   "outputs": [
    {
     "name": "stderr",
     "output_type": "stream",
     "text": [
      "C:\\Users\\zhiqi\\Anaconda3\\lib\\site-packages\\sklearn\\linear_model\\logistic.py:433: FutureWarning: Default solver will be changed to 'lbfgs' in 0.22. Specify a solver to silence this warning.\n",
      "  FutureWarning)\n",
      "C:\\Users\\zhiqi\\Anaconda3\\lib\\site-packages\\ipykernel_launcher.py:25: RuntimeWarning: invalid value encountered in longlong_scalars\n",
      "C:\\Users\\zhiqi\\Anaconda3\\lib\\site-packages\\sklearn\\linear_model\\logistic.py:433: FutureWarning: Default solver will be changed to 'lbfgs' in 0.22. Specify a solver to silence this warning.\n",
      "  FutureWarning)\n",
      "C:\\Users\\zhiqi\\Anaconda3\\lib\\site-packages\\ipykernel_launcher.py:25: RuntimeWarning: invalid value encountered in longlong_scalars\n",
      "C:\\Users\\zhiqi\\Anaconda3\\lib\\site-packages\\sklearn\\linear_model\\logistic.py:433: FutureWarning: Default solver will be changed to 'lbfgs' in 0.22. Specify a solver to silence this warning.\n",
      "  FutureWarning)\n",
      "C:\\Users\\zhiqi\\Anaconda3\\lib\\site-packages\\ipykernel_launcher.py:25: RuntimeWarning: invalid value encountered in longlong_scalars\n",
      "C:\\Users\\zhiqi\\Anaconda3\\lib\\site-packages\\sklearn\\linear_model\\logistic.py:433: FutureWarning: Default solver will be changed to 'lbfgs' in 0.22. Specify a solver to silence this warning.\n",
      "  FutureWarning)\n",
      "C:\\Users\\zhiqi\\Anaconda3\\lib\\site-packages\\ipykernel_launcher.py:25: RuntimeWarning: invalid value encountered in longlong_scalars\n",
      "C:\\Users\\zhiqi\\Anaconda3\\lib\\site-packages\\sklearn\\linear_model\\logistic.py:433: FutureWarning: Default solver will be changed to 'lbfgs' in 0.22. Specify a solver to silence this warning.\n",
      "  FutureWarning)\n",
      "C:\\Users\\zhiqi\\Anaconda3\\lib\\site-packages\\ipykernel_launcher.py:25: RuntimeWarning: invalid value encountered in longlong_scalars\n",
      "C:\\Users\\zhiqi\\Anaconda3\\lib\\site-packages\\sklearn\\linear_model\\logistic.py:433: FutureWarning: Default solver will be changed to 'lbfgs' in 0.22. Specify a solver to silence this warning.\n",
      "  FutureWarning)\n"
     ]
    },
    {
     "name": "stdout",
     "output_type": "stream",
     "text": [
      "accuracy values\n",
      "[[0.43841808 0.63728814 0.70960452 0.75480226 0.77740113 0.78644068\n",
      "  0.77288136 0.7559322  0.71186441 0.65875706 0.56158192]\n",
      " [0.43841808 0.63502825 0.71073446 0.75819209 0.77966102 0.78757062\n",
      "  0.7740113  0.75706215 0.71299435 0.65875706 0.56158192]\n",
      " [0.43841808 0.63163842 0.71299435 0.75932203 0.78418079 0.78757062\n",
      "  0.77966102 0.75480226 0.71186441 0.65423729 0.56158192]\n",
      " [0.43841808 0.62259887 0.70169492 0.7480226  0.78079096 0.79548023\n",
      "  0.76949153 0.74463277 0.70621469 0.63954802 0.56158192]\n",
      " [0.43841808 0.58870056 0.68587571 0.73559322 0.7740113  0.78757062\n",
      "  0.75367232 0.72768362 0.68135593 0.61242938 0.56158192]\n",
      " [0.43841808 0.4440678  0.55480226 0.65988701 0.74915254 0.74576271\n",
      "  0.67683616 0.61129944 0.57627119 0.56497175 0.56158192]\n",
      " [0.43841808 0.43841808 0.43841808 0.43841808 0.43841808 0.55141243\n",
      "  0.56158192 0.56158192 0.56158192 0.56158192 0.56158192]]\n",
      "sensitivity values\n",
      "[[1.         0.96134021 0.93041237 0.8814433  0.82474227 0.75515464\n",
      "  0.65206186 0.54639175 0.40979381 0.24742268 0.        ]\n",
      " [1.         0.96134021 0.93298969 0.88402062 0.82731959 0.75515464\n",
      "  0.65206186 0.54639175 0.41237113 0.24742268 0.        ]\n",
      " [1.         0.96391753 0.93298969 0.88402062 0.83505155 0.75515464\n",
      "  0.65206186 0.54123711 0.40721649 0.2371134  0.        ]\n",
      " [1.         0.96907216 0.94072165 0.88402062 0.84020619 0.77061856\n",
      "  0.6314433  0.51546392 0.38659794 0.20618557 0.        ]\n",
      " [1.         0.9742268  0.95618557 0.90463918 0.83505155 0.73969072\n",
      "  0.59793814 0.47164948 0.31701031 0.12886598 0.        ]\n",
      " [1.         1.         0.98195876 0.93556701 0.82731959 0.62628866\n",
      "  0.35309278 0.1443299  0.04381443 0.01030928 0.        ]\n",
      " [1.         1.         1.         1.         1.         0.00257732\n",
      "  0.         0.         0.         0.         0.        ]]\n",
      "specificity values\n",
      "[[0.         0.38430584 0.53722334 0.65593561 0.74044266 0.81086519\n",
      "  0.86720322 0.9195171  0.94768612 0.97987928 1.        ]\n",
      " [0.         0.38028169 0.53722334 0.65995976 0.74245473 0.81287726\n",
      "  0.86921529 0.92152918 0.94768612 0.97987928 1.        ]\n",
      " [0.         0.3722334  0.54124748 0.66197183 0.7444668  0.81287726\n",
      "  0.87927565 0.92152918 0.94969819 0.97987928 1.        ]\n",
      " [0.         0.35211268 0.51509054 0.64185111 0.73440644 0.81488934\n",
      "  0.87726358 0.92354125 0.95573441 0.9778672  1.        ]\n",
      " [0.         0.28772636 0.47484909 0.60362173 0.72635815 0.8249497\n",
      "  0.87525151 0.92756539 0.96579477 0.98993964 1.        ]\n",
      " [0.         0.01006036 0.22132797 0.44466801 0.68812877 0.83903421\n",
      "  0.92957746 0.97585513 0.99195171 0.99798793 1.        ]\n",
      " [0.         0.         0.         0.         0.         0.97987928\n",
      "  1.         1.         1.         1.         1.        ]]\n"
     ]
    },
    {
     "name": "stderr",
     "output_type": "stream",
     "text": [
      "C:\\Users\\zhiqi\\Anaconda3\\lib\\site-packages\\ipykernel_launcher.py:25: RuntimeWarning: invalid value encountered in longlong_scalars\n",
      "C:\\Users\\zhiqi\\Anaconda3\\lib\\site-packages\\sklearn\\linear_model\\logistic.py:433: FutureWarning: Default solver will be changed to 'lbfgs' in 0.22. Specify a solver to silence this warning.\n",
      "  FutureWarning)\n",
      "C:\\Users\\zhiqi\\Anaconda3\\lib\\site-packages\\ipykernel_launcher.py:25: RuntimeWarning: invalid value encountered in longlong_scalars\n",
      "C:\\Users\\zhiqi\\Anaconda3\\lib\\site-packages\\ipykernel_launcher.py:25: RuntimeWarning: invalid value encountered in longlong_scalars\n",
      "C:\\Users\\zhiqi\\Anaconda3\\lib\\site-packages\\ipykernel_launcher.py:25: RuntimeWarning: invalid value encountered in longlong_scalars\n",
      "C:\\Users\\zhiqi\\Anaconda3\\lib\\site-packages\\ipykernel_launcher.py:25: RuntimeWarning: invalid value encountered in longlong_scalars\n",
      "C:\\Users\\zhiqi\\Anaconda3\\lib\\site-packages\\ipykernel_launcher.py:25: RuntimeWarning: invalid value encountered in longlong_scalars\n"
     ]
    }
   ],
   "source": [
    "# Logistic Regression with L1 regularization\n",
    "alpha = np.logspace(-3,3,7)\n",
    "C = 1/alpha\n",
    "threshold = np.arange(0,1.1,0.1)\n",
    "accuracy = np.zeros( (len(C) , len(threshold)) )\n",
    "sensitivity = np.zeros( (len(C) , len(threshold)) )\n",
    "specificity = np.zeros( (len(C) , len(threshold)) )\n",
    "precision = np.zeros( (len(C) , len(threshold)) )\n",
    "\n",
    "for k in range(len(alpha)):\n",
    "    log_regressor_L1reg = LogisticRegression(penalty = 'l1', C = C[k]) #set L2 penalty, C is inverse of reg strength\n",
    "    log_regressor_L1reg.fit(X_train,y_train)\n",
    "\n",
    "    #predict = log_regressor.predict(X_val) #this implements default threshold of 0.5\n",
    "\n",
    "    for i in range(len(threshold)):\n",
    "\n",
    "        predict = (log_regressor_L1reg.predict_proba(X_val)[:,1] >= threshold[i]).astype(int)\n",
    "\n",
    "        TN, FP, FN, TP = confusion_matrix(y_val,predict).ravel()\n",
    "\n",
    "        accuracy[k,i] = np.mean(predict == y_val)\n",
    "        sensitivity[k,i] = TP / (TP + FN)\n",
    "        specificity[k,i] = TN / (TN + FP)\n",
    "        precision[k,i] = TP / (TP + FP)\n",
    "\n",
    "recall = sensitivity.copy()\n",
    "\n",
    "print('accuracy values')\n",
    "print(accuracy)\n",
    "print('sensitivity values')\n",
    "print(sensitivity)\n",
    "print('specificity values')\n",
    "print(specificity)"
   ]
  },
  {
   "cell_type": "code",
   "execution_count": 56,
   "metadata": {},
   "outputs": [
    {
     "name": "stdout",
     "output_type": "stream",
     "text": [
      "auc\n",
      "[0.85430884 0.85603311 0.85819557 0.85618868 0.8515578  0.81536383\n",
      " 0.4912283 ]\n"
     ]
    },
    {
     "data": {
      "image/png": "[encoded data removed]",
      "text/plain": [
       "<Figure size 432x288 with 1 Axes>"
      ]
     },
     "metadata": {
      "needs_background": "light"
     },
     "output_type": "display_data"
    }
   ],
   "source": [
    "#note TPR = sensitivity, FPR = 1 - specificity\n",
    "#FPR is important because we want to avoid overdosing\n",
    "num = len(alpha)\n",
    "AUC = np.zeros(num)\n",
    "for i in range(num):\n",
    "    plt.plot(sensitivity[i,:], specificity[i,:], label = alpha[i])\n",
    "    AUC[i] = auc(sensitivity[i,:],specificity[i,:])\n",
    "    \n",
    "plt.xlabel('sensitivity = TPR')\n",
    "plt.ylabel('specificity = 1 - FPR')\n",
    "plt.legend()\n",
    "plt.title('ROC')\n",
    "plt.savefig('logreg_L1regularized_ROC.png')\n",
    "\n",
    "print('auc')\n",
    "print(AUC) #auc takes in arguments (x,y)"
   ]
  },
  {
   "cell_type": "code",
   "execution_count": 18,
   "metadata": {},
   "outputs": [
    {
     "name": "stdout",
     "output_type": "stream",
     "text": [
      "0.1\n",
      "0.858428924059823\n"
     ]
    }
   ],
   "source": [
    "best_reg_strength = alpha[np.argmax(AUC)]\n",
    "print(best_reg_strength)\n",
    "best_auc = AUC[np.argmax(AUC)]\n",
    "print(best_auc)"
   ]
  },
  {
   "cell_type": "markdown",
   "metadata": {},
   "source": [
    "## SVM classification"
   ]
  },
  {
   "cell_type": "code",
   "execution_count": 52,
   "metadata": {},
   "outputs": [
    {
     "name": "stderr",
     "output_type": "stream",
     "text": [
      "C:\\Users\\zhiqi\\Anaconda3\\lib\\site-packages\\ipykernel_launcher.py:21: RuntimeWarning: invalid value encountered in longlong_scalars\n"
     ]
    },
    {
     "name": "stdout",
     "output_type": "stream",
     "text": [
      "accuracy values\n",
      "[0.56158192 0.71412429 0.77175141 0.79322034 0.77853107 0.59322034\n",
      " 0.56045198]\n",
      "sensitivity values\n",
      "[0.         0.54123711 0.70103093 0.76546392 0.77061856 0.12113402\n",
      " 0.0128866 ]\n",
      "specificity values\n",
      "[1.         0.84909457 0.82696177 0.81488934 0.78470825 0.96177062\n",
      " 0.98792757]\n"
     ]
    }
   ],
   "source": [
    "from sklearn.svm import SVC\n",
    "\n",
    "gamma = np.logspace(-5,1,7)\n",
    "accuracy = np.zeros(len(gamma))\n",
    "sensitivity = np.zeros(len(gamma))\n",
    "specificity = np.zeros(len(gamma))\n",
    "precision = np.zeros(len(gamma))\n",
    "\n",
    "for i in range(len(gamma)):\n",
    "    \n",
    "    SV_classifier = SVC(gamma = gamma[i], kernel = 'rbf', random_state = 0)\n",
    "    SV_classifier.fit(X_train,y_train)\n",
    "\n",
    "    predict = SV_classifier.predict(X_val)\n",
    "\n",
    "    TN, FP, FN, TP = confusion_matrix(y_val,predict).ravel()\n",
    "\n",
    "    accuracy[i] = np.mean(predict == y_val)\n",
    "    sensitivity[i] = TP / (TP + FN)\n",
    "    specificity[i] = TN / (TN + FP)\n",
    "    precision[i] = TP / (TP + FP)\n",
    "\n",
    "recall = sensitivity.copy()\n",
    "\n",
    "print('accuracy values')\n",
    "print(accuracy)\n",
    "print('sensitivity values')\n",
    "print(sensitivity)\n",
    "print('specificity values')\n",
    "print(specificity)\n"
   ]
  },
  {
   "cell_type": "code",
   "execution_count": 54,
   "metadata": {},
   "outputs": [
    {
     "data": {
      "image/png": "[encoded data removed]",
      "text/plain": [
       "<Figure size 432x288 with 1 Axes>"
      ]
     },
     "metadata": {
      "needs_background": "light"
     },
     "output_type": "display_data"
    }
   ],
   "source": [
    "plt.plot(gamma,accuracy, label = 'accuracy')\n",
    "plt.plot(gamma,sensitivity, label = 'sensitivity')\n",
    "plt.plot(gamma,specificity, label = 'specificity')\n",
    "plt.legend()\n",
    "plt.xscale('log')\n",
    "plt.xlabel('gamma')\n",
    "plt.savefig('SVM_classifier.png')"
   ]
  },
  {
   "cell_type": "markdown",
   "metadata": {},
   "source": [
    "## prediction on test set for best model"
   ]
  },
  {
   "cell_type": "code",
   "execution_count": 64,
   "metadata": {},
   "outputs": [
    {
     "name": "stdout",
     "output_type": "stream",
     "text": [
      "accuracy values\n",
      "0.7954802259887006\n",
      "sensitivity values\n",
      "0.7680412371134021\n",
      "specificity values\n",
      "0.8169014084507042\n"
     ]
    },
    {
     "name": "stderr",
     "output_type": "stream",
     "text": [
      "C:\\Users\\zhiqi\\Anaconda3\\lib\\site-packages\\sklearn\\linear_model\\logistic.py:433: FutureWarning: Default solver will be changed to 'lbfgs' in 0.22. Specify a solver to silence this warning.\n",
      "  FutureWarning)\n"
     ]
    }
   ],
   "source": [
    "# Best Model is Logistic Regression with L2 regularization, reg strength = 1\n",
    "\n",
    "log_regressor_L2reg = LogisticRegression(penalty = 'l2', C = 1) #set L2 penalty\n",
    "log_regressor_L2reg.fit(X_train,y_train)\n",
    "\n",
    "#predict = log_regressor.predict(X_val) #this implements default threshold of 0.5\n",
    "\n",
    "threshold = 0.5 \n",
    "predict = (log_regressor_L2reg.predict_proba(X_val)[:,1] >= threshold).astype(int)\n",
    "\n",
    "TN, FP, FN, TP = confusion_matrix(y_val,predict).ravel()\n",
    "\n",
    "accuracy = np.mean(predict == y_val)\n",
    "sensitivity = TP / (TP + FN)\n",
    "specificity = TN / (TN + FP)\n",
    "precision = TP / (TP + FP)\n",
    "\n",
    "recall = sensitivity.copy()\n",
    "\n",
    "print('accuracy values')\n",
    "print(accuracy)\n",
    "print('sensitivity values')\n",
    "print(sensitivity)\n",
    "print('specificity values')\n",
    "print(specificity)"
   ]
  },
  {
   "cell_type": "code",
   "execution_count": null,
   "metadata": {},
   "outputs": [],
   "source": []
  },
  {
   "cell_type": "code",
   "execution_count": null,
   "metadata": {},
   "outputs": [],
   "source": []
  }
 ],
 "metadata": {
  "kernelspec": {
   "display_name": "Python 3",
   "language": "python",
   "name": "python3"
  },
  "language_info": {
   "codemirror_mode": {
    "name": "ipython",
    "version": 3
   },
   "file_extension": ".py",
   "mimetype": "text/x-python",
   "name": "python",
   "nbconvert_exporter": "python",
   "pygments_lexer": "ipython3",
   "version": "3.7.1"
  }
 },
 "nbformat": 4,
 "nbformat_minor": 2
}
