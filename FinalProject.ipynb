{
 "cells": [
  {
   "cell_type": "code",
   "execution_count": 1,
   "metadata": {},
   "outputs": [],
   "source": [
    "import data_utils as util\n",
    "import numpy as np\n",
    "from sklearn.model_selection import train_test_split\n",
    "from matplotlib import pyplot as plt\n",
    "from sklearn.metrics import mean_squared_error\n",
    "import pandas as pd"
   ]
  },
  {
   "cell_type": "markdown",
   "metadata": {},
   "source": [
    "# data preprocessing"
   ]
  },
  {
   "cell_type": "code",
   "execution_count": 19,
   "metadata": {},
   "outputs": [],
   "source": [
    "#######################################################\n",
    "# Load the feature header\n",
    "#######################################################\n",
    "import csv\n",
    "\n",
    "# read the csv file\n",
    "feature_names = []\n",
    "with open('./data/header.csv') as f:\n",
    "    reader = csv.reader(f)\n",
    "    for line in reader:\n",
    "        feature_names.append(line)\n",
    "\n",
    "# Dirty tricks to clean up the feature names\n",
    "feature_names = feature_names[0]\n",
    "feature_names = list(map(lambda x: x.replace(' ', '_'), feature_names))\n",
    "feature_names[0] = 'PharmGKB_Subject_ID' # manual fix to remove a character in f...[0]"
   ]
  },
  {
   "cell_type": "code",
   "execution_count": 20,
   "metadata": {},
   "outputs": [],
   "source": [
    "####################################################################\n",
    "# Load the dataframe into X; clean up some unnecessary columns \n",
    "####################################################################\n",
    "\n",
    "# Load data and process column names\n",
    "df = pd.read_csv('./data/warfarin_with_dose.csv', names = feature_names)\n",
    "#keep_default_na=False)\n",
    "df.columns = [c.replace(' ', '_') for c in df.columns]\n",
    "\n",
    "# Extract the label (Warfarin dose) from the rest of the features\n",
    "y = df.Therapeutic_Dose_of_Warfarin\n",
    "X = df.drop('Therapeutic_Dose_of_Warfarin',axis=1)\n",
    "feature_names.remove('Therapeutic_Dose_of_Warfarin')\n",
    "\n",
    "# Drop Subject_ID (irrelevant) and Medication (different to encode)\n",
    "X = X.drop('PharmGKB_Subject_ID',axis=1)\n",
    "X = X.drop('Medications',axis=1)\n",
    "X = X.drop('Comorbidities',axis=1)\n",
    "feature_names.remove('PharmGKB_Subject_ID')\n",
    "feature_names.remove('Medications')\n",
    "feature_names.remove('Comorbidities')"
   ]
  },
  {
   "cell_type": "code",
   "execution_count": 21,
   "metadata": {},
   "outputs": [],
   "source": [
    "####################################################################\n",
    "# Encode different features with numeric/label/onehot encodings \n",
    "####################################################################\n",
    "numeric_features = ['Height_(cm)',\n",
    "                    'Weight_(kg)',\n",
    "                    'Target_INR',\n",
    "                    'INR_on_Reported_Therapeutic_Dose_of_Warfarin',\n",
    "                    ]\n",
    "label_features =   ['Age',\n",
    "                    'Estimated_Target_INR_Range_Based_on_Indication']\n",
    "categorical_features = [f for f in feature_names \\\n",
    "                        if f not in numeric_features and f not in label_features]\n",
    "\n",
    "for feat in categorical_features:\n",
    "    X[feat] = X[feat].astype(str)"
   ]
  },
  {
   "cell_type": "code",
   "execution_count": 22,
   "metadata": {
    "scrolled": true
   },
   "outputs": [],
   "source": [
    "from sklearn.compose import ColumnTransformer\n",
    "from sklearn.pipeline import Pipeline\n",
    "from sklearn.preprocessing import OrdinalEncoder, OneHotEncoder, StandardScaler\n",
    "from sklearn.impute import SimpleImputer\n",
    "\n",
    "# We create the preprocessing pipelines for both numeric and categorical data.\n",
    "numeric_transformer = Pipeline(steps=[\n",
    "    ('imputer', SimpleImputer(strategy='median')),\n",
    "    ('scaler', StandardScaler())])\n",
    "\n",
    "label_transformer = Pipeline(steps=[\n",
    "    ('imputer', SimpleImputer(strategy='constant', fill_value='0-missing')),\n",
    "    ('ordinal', OrdinalEncoder())])\n",
    "\n",
    "categorical_transformer = Pipeline(steps=[\n",
    "    ('imputer', SimpleImputer(strategy='constant', fill_value='missing')),\n",
    "    ('onehot', OneHotEncoder(handle_unknown='ignore',sparse=False))])\n",
    "\n",
    "preprocessor = ColumnTransformer(\n",
    "    transformers=[\n",
    "        ('num', numeric_transformer, numeric_features),\n",
    "        ('lab', label_transformer, label_features),\n",
    "        ('cat', categorical_transformer, categorical_features)]\n",
    ")\n"
   ]
  },
  {
   "cell_type": "code",
   "execution_count": 23,
   "metadata": {},
   "outputs": [],
   "source": [
    "X_transformed = preprocessor.fit_transform(X)"
   ]
  },
  {
   "cell_type": "code",
   "execution_count": 24,
   "metadata": {
    "scrolled": false
   },
   "outputs": [
    {
     "data": {
      "text/plain": [
       "(5528, 259)"
      ]
     },
     "execution_count": 24,
     "metadata": {},
     "output_type": "execute_result"
    }
   ],
   "source": [
    "X_transformed.shape"
   ]
  },
  {
   "cell_type": "code",
   "execution_count": null,
   "metadata": {},
   "outputs": [],
   "source": [
    "#X.shape"
   ]
  },
  {
   "cell_type": "markdown",
   "metadata": {},
   "source": [
    "# Train Validation Test Split"
   ]
  },
  {
   "cell_type": "code",
   "execution_count": 25,
   "metadata": {},
   "outputs": [],
   "source": [
    "# Split the data into train, val and test\n",
    "X_trainval, X_test, y_trainval, y_test = train_test_split(X_transformed, y, test_size=0.2, random_state=5)\n",
    "X_train, X_val, y_train, y_val = train_test_split(X_trainval, y_trainval, test_size = 0.2, random_state = 5)"
   ]
  },
  {
   "cell_type": "markdown",
   "metadata": {},
   "source": [
    "# Learning"
   ]
  },
  {
   "cell_type": "code",
   "execution_count": 26,
   "metadata": {},
   "outputs": [
    {
     "name": "stdout",
     "output_type": "stream",
     "text": [
      "-4.30786080596133e+17\n",
      "0.49127742388331375\n",
      "1.2946052571549948e+20\n",
      "31.52241807909605\n",
      "[ 1.03911431e+00  3.85386484e+00  4.00731988e-01  5.82537359e-01\n",
      " -2.16056160e+00 -1.90372575e-01 -2.56115479e+12 -2.56115479e+12\n",
      " -2.56115479e+12  3.15608064e+11  3.15608064e+11  3.15608064e+11\n",
      "  3.15608064e+11  4.57975946e+10  4.57975946e+10  4.57975946e+10\n",
      " -1.94830517e+10 -1.94830517e+10 -2.34292184e+11 -1.94830517e+10\n",
      " -1.94830517e+10  1.19788462e+11 -1.94830517e+10 -1.94830517e+10\n",
      " -1.94830517e+10 -1.72431759e+11 -1.94830517e+10 -1.94830517e+10\n",
      " -1.00113465e+10 -1.94830517e+10 -1.94830517e+10 -1.94830517e+10\n",
      "  6.33385871e+09 -1.94830517e+10 -1.94830517e+10 -1.94830517e+10\n",
      " -1.94830517e+10 -1.94830517e+10  1.10916913e+11 -1.94830517e+10\n",
      " -1.94830517e+10 -1.94830517e+10 -1.94830517e+10 -1.94830517e+10\n",
      " -1.94830517e+10 -1.94830517e+10 -1.94830517e+10 -1.94830517e+10\n",
      " -1.94830517e+10 -1.94830517e+10 -1.94830517e+10 -1.94830517e+10\n",
      " -1.94830517e+10 -1.94830517e+10 -1.94830517e+10 -1.94830517e+10\n",
      " -1.94830517e+10 -1.94830517e+10  1.06515673e+09 -1.94830517e+10\n",
      " -1.94830517e+10 -1.94830517e+10 -1.94830517e+10  4.57211732e+09\n",
      " -1.94830517e+10 -1.94830517e+10 -1.94830517e+10 -1.94830517e+10\n",
      " -1.94830517e+10 -6.72042293e+11 -6.72042293e+11 -6.72042293e+11\n",
      "  1.45510490e+10  1.45510490e+10  1.45510490e+10 -7.28548123e+10\n",
      " -7.28548123e+10 -7.28548123e+10 -3.44268195e+11 -3.44268195e+11\n",
      " -3.44268195e+11 -3.42145750e+11 -3.42145750e+11 -3.42145750e+11\n",
      "  3.37711292e+11  3.37711292e+11  3.37711292e+11  7.03739925e+11\n",
      "  7.03739925e+11  7.03739925e+11 -1.11173292e+12 -1.11173292e+12\n",
      " -1.11173292e+12 -1.66975766e+12 -1.66975766e+12 -2.05078489e+12\n",
      " -3.17909097e+11 -3.17909097e+11 -3.17909097e+11  2.93064834e+11\n",
      "  2.93064834e+11  2.93064834e+11  7.34727912e+11  7.34727912e+11\n",
      "  7.34727912e+11  7.27560903e+10  7.27560903e+10  2.98189717e+11\n",
      "  2.98189717e+11  2.98189717e+11  3.55526928e+11  3.55526928e+11\n",
      "  3.55526928e+11 -1.31349340e+12 -1.31349340e+12 -1.40611947e+12\n",
      " -1.01197890e+12 -1.01197890e+12  5.77452283e+11 -4.25020851e+11\n",
      " -4.25020851e+11 -4.25020851e+11 -2.90604374e+11 -2.90604374e+11\n",
      " -1.40638227e+12  8.88134110e+11  8.88134110e+11  8.88134110e+11\n",
      "  5.81350499e+11  5.81350499e+11  5.81350499e+11  1.06210969e+11\n",
      "  1.06210969e+11  4.39326913e+11  4.39326913e+11  4.39326913e+11\n",
      "  1.35219370e+11  4.03160626e+10 -1.56230886e+02  4.35218891e+10\n",
      "  1.35219370e+11  1.35219370e+11  4.33408295e+10  3.96639514e+10\n",
      "  1.35219370e+11  1.35219370e+11  6.13366891e+10  1.35219370e+11\n",
      "  7.42095043e+10 -3.37130773e+10 -7.99287430e+10  2.47402861e+11\n",
      "  1.79518499e+11  5.59702122e+09 -3.02196161e+10  2.46213872e+11\n",
      " -2.40148973e+11 -1.32226391e+11 -6.62274947e+10 -8.60107256e+10\n",
      "  4.16950870e+10 -3.04108573e+10  3.78305350e+10 -2.37025518e+10\n",
      " -2.37025518e+10 -2.37025518e+10 -2.37025518e+10  1.54682202e+11\n",
      "  1.59446531e+11  1.30965973e+11  2.20212611e+10 -2.26735798e+11\n",
      " -2.26735798e+11 -2.26735798e+11 -2.26735798e+11  7.30997116e+10\n",
      "  7.30997116e+10  7.30997116e+10  7.81163162e+09  8.48640123e+11\n",
      "  8.48640123e+11  8.48640123e+11  8.48640123e+11  1.30971181e+11\n",
      "  1.02490623e+11  1.07254952e+11  3.88212014e+10 -7.80953452e+11\n",
      " -7.80953452e+11 -7.80953452e+11 -7.80953452e+11  6.70648646e+10\n",
      "  6.70648645e+10  6.70648645e+10 -1.15941200e+11 -8.20870878e+10\n",
      " -8.20870878e+10 -8.20870878e+10 -8.20870878e+10  8.62892665e+10\n",
      "  8.62892665e+10  8.62892665e+10  4.13267229e+10 -9.03960213e+10\n",
      " -9.03960213e+10 -9.03960213e+10 -9.03960213e+10  6.17036155e+10\n",
      "  6.17036155e+10  6.17036155e+10  3.81867580e+10 -4.45700109e+11\n",
      " -4.45700109e+11 -4.45700109e+11 -4.45700109e+11 -1.80731674e+10\n",
      " -1.80731674e+10 -1.80731674e+10 -1.80731674e+10 -5.56923568e+10\n",
      "  3.92109505e+10  0.00000000e+00  3.60051241e+10 -5.56923568e+10\n",
      " -5.56923569e+10  3.61861836e+10  3.98630618e+10 -5.56923569e+10\n",
      " -5.56923569e+10  1.81903241e+10 -5.56923569e+10 -2.09967102e+10\n",
      " -2.09967102e+10 -2.09967102e+10 -2.09967102e+10 -3.41390874e+11\n",
      " -3.41390874e+11 -3.41390874e+11 -3.41390874e+11 -1.08957588e+12\n",
      " -1.08957588e+12 -1.08957588e+12 -1.08957588e+12  1.13753095e+12\n",
      "  1.13753095e+12  1.13753095e+12  1.13753095e+12 -1.26478433e+12\n",
      " -1.26478433e+12 -1.26478433e+12 -1.26478433e+12 -9.69765766e+11\n",
      " -9.69765766e+11 -9.69765766e+11 -9.69765766e+11 -4.25325109e+11\n",
      " -4.25325109e+11 -4.25325109e+11 -4.25325109e+11]\n"
     ]
    }
   ],
   "source": [
    "# Linear regression\n",
    "from sklearn.linear_model import LinearRegression\n",
    "\n",
    "lr_regressor = LinearRegression(fit_intercept = True)\n",
    "lr_regressor.fit(X_train, y_train)\n",
    "print(lr_regressor.score(X_val, y_val))\n",
    "print(lr_regressor.score(X_train, y_train))\n",
    "\n",
    "y_pred = lr_regressor.predict(X_val)\n",
    "print(mean_squared_error(y_val,y_pred))\n",
    "print(np.mean(y_val))\n",
    "coef = lr_regressor.coef_\n",
    "print(coef)\n",
    "\n",
    "\n"
   ]
  },
  {
   "cell_type": "code",
   "execution_count": 27,
   "metadata": {},
   "outputs": [
    {
     "data": {
      "text/plain": [
       "0.34995912960891384"
      ]
     },
     "execution_count": 27,
     "metadata": {},
     "output_type": "execute_result"
    }
   ],
   "source": [
    "# SVM\n",
    "from sklearn.svm import SVR\n",
    "\n",
    "svm_regressor = SVR(kernel='rbf', gamma='auto')\n",
    "svm_regressor.fit(X_train, y_train)\n",
    "svm_regressor.score(X_val, y_val)"
   ]
  },
  {
   "cell_type": "code",
   "execution_count": null,
   "metadata": {
    "scrolled": true
   },
   "outputs": [],
   "source": [
    "# SVM with various hyperparameters\n",
    "from sklearn.svm import SVR\n",
    "\n",
    "#initialise arrays to store the scores \n",
    "svm_score_train = np.zeros((7,1))\n",
    "svm_score_val = np.zeros((7,1))\n",
    "\n",
    "for i, C in enumerate((1000,100,10,1, 0.1, 0.01,0.001)):\n",
    "    svm_regressor = SVR(kernel='rbf', gamma='auto', C=C)\n",
    "    svm_regressor.fit(X_train,y_train)\n",
    "    svm_score_train[i,:] = svm_regressor.score(X_train,y_train)\n",
    "    svm_score_val[i,:] = svm_regressor.score(X_val,y_val)\n",
    "    \n",
    "print('training score \\n', svm_score_train)\n",
    "print('validation score \\n', svm_score_val)\n",
    "\n",
    "\n"
   ]
  },
  {
   "cell_type": "code",
   "execution_count": 28,
   "metadata": {
    "scrolled": true
   },
   "outputs": [
    {
     "name": "stdout",
     "output_type": "stream",
     "text": [
      "training score \n",
      " [0.49127676 0.49127608 0.49122248 0.48984508 0.48414958 0.4677943\n",
      " 0.42004327]\n",
      "validation score \n",
      " [0.44686551 0.44705458 0.44862756 0.45435222 0.45738596 0.44720356\n",
      " 0.41238118]\n",
      "163.97894739844483\n",
      "31.52241807909605\n",
      "[ 1.01452503e+00  3.87556903e+00  3.82346861e-01  6.04327955e-01\n",
      " -2.14634530e+00 -1.60134814e-01  4.92842235e+00  3.81220279e+00\n",
      " -8.74062514e+00  1.72571717e+00 -1.89869994e+00 -1.22922548e+00\n",
      "  1.40220825e+00 -5.88621243e-01 -2.59567775e-01  8.48189019e-01\n",
      "  2.86021660e+00  2.01364878e+00  0.00000000e+00  9.60495958e+00\n",
      "  1.89155223e+00  0.00000000e+00  1.15091577e+00 -4.04545012e+00\n",
      "  5.11943175e+00  0.00000000e+00 -1.39409020e+00  4.47950018e+00\n",
      "  0.00000000e+00  2.62606928e+00  3.19533926e+00  7.32936230e+00\n",
      "  0.00000000e+00 -2.64209142e+00 -7.45747498e-01  2.13214413e-01\n",
      " -9.68658363e-01  9.98845199e-01  0.00000000e+00 -1.65707136e+00\n",
      "  2.47908758e+00 -8.65511096e+00  9.57806132e-01  3.05122743e+00\n",
      " -3.21944263e+00 -9.74045173e+00 -6.60261355e-01 -2.31170265e+00\n",
      " -4.92152656e+00 -5.77746168e-01  3.12634885e-01 -2.63280848e+00\n",
      " -5.27449961e+00 -7.65972110e-01  1.54507501e+00  1.17255665e+01\n",
      " -5.09998298e+00  1.51562529e+00  0.00000000e+00 -1.60366488e+00\n",
      " -6.82681322e-01 -4.49320875e+00 -2.49143958e+00  0.00000000e+00\n",
      " -3.15298719e+00  2.31295875e+00  1.01056944e+00  1.14425527e+00\n",
      "  1.98734227e-01 -5.06103635e-01  3.38962403e-01  1.67141232e-01\n",
      "  7.33275332e-01 -5.59961066e-01 -1.73314266e-01  1.02261457e-01\n",
      "  2.14018950e+00 -2.24245096e+00  7.62137457e-01 -1.00526485e-01\n",
      " -6.61610972e-01  4.06320462e-01 -7.11522690e-01  3.05202228e-01\n",
      "  6.10232495e-01  1.02128391e+00 -1.63151640e+00 -7.57556853e-01\n",
      " -1.40201387e+00  2.15957072e+00  3.36716139e+00  1.11655168e+00\n",
      " -4.48371306e+00 -8.42699331e-01  3.64284204e-02  8.06270911e-01\n",
      "  2.58274076e+00 -1.49527612e+00 -1.08746465e+00 -1.18866818e+00\n",
      " -3.75549866e-01  1.56421805e+00  3.96176533e+00  1.10461369e+00\n",
      " -5.06637902e+00  2.03669809e-01 -2.03669809e-01  2.30760295e+00\n",
      " -3.60265482e+00  1.29505187e+00 -1.60339770e+00  4.60440586e+00\n",
      " -3.00100816e+00 -6.40810130e+00  5.60183038e+00  8.06270911e-01\n",
      "  8.25212526e+00 -9.05839618e+00  8.06270911e-01 -3.23612908e+00\n",
      " -3.40852837e+00  6.64465744e+00 -1.39980095e+00  5.93530035e-01\n",
      "  8.06270911e-01  1.63597847e-02 -5.12621350e+00  5.10985371e+00\n",
      "  2.76024737e-01 -1.28652156e+00  1.01049682e+00 -1.63008426e+00\n",
      "  1.63008426e+00 -1.23968643e-01  1.98967648e+00 -1.86570784e+00\n",
      " -5.28113108e+00  3.86362557e-01  0.00000000e+00 -1.95864842e+00\n",
      "  2.74290019e-02  1.24929524e+00 -3.02550331e-01  3.83570213e+00\n",
      "  9.67723642e+00 -3.45042531e+00 -6.03753093e+00  1.85426072e+00\n",
      " -5.26542829e-01  9.52551354e-01 -5.19049753e-01  9.30412284e-02\n",
      "  1.32671676e+00  1.25061574e+00 -2.67037373e+00  9.30412284e-02\n",
      "  2.15811175e+00 -3.12345233e-01 -1.42808448e-02 -5.19049753e-01\n",
      "  1.26489659e+00 -2.67037373e+00  9.30412284e-02 -3.86169052e-01\n",
      " -2.39240079e+00  3.75241988e-01  2.40332786e+00 -2.92346821e-01\n",
      "  1.19232981e+00 -9.93024219e-01  9.30412284e-02 -1.99872562e-01\n",
      " -1.21620536e+00  2.58715956e+00 -1.17108163e+00  1.99612926e+00\n",
      " -2.16003373e+00  7.08632383e-02  9.30412284e-02  3.35358606e+00\n",
      "  2.31621623e+00 -2.68396210e+00 -2.98584019e+00 -9.93024219e-01\n",
      "  1.19232981e+00 -2.92346821e-01  9.30412284e-02 -1.49375934e+00\n",
      " -1.23903572e+00  9.42648903e-01  1.79014616e+00  9.29448600e+00\n",
      " -4.75110719e+00 -4.63642004e+00  9.30412284e-02 -3.21761188e+00\n",
      "  9.99861029e-01  2.80739335e+00 -5.89642505e-01 -1.70901149e+00\n",
      " -5.40699449e-01  2.15666971e+00  9.30412284e-02 -2.93100080e+00\n",
      " -2.59372280e-01  2.00686293e+00  1.18351015e+00  5.43598814e+00\n",
      "  3.46268398e+00 -8.99171335e+00  9.30412284e-02 -1.04389055e+00\n",
      " -4.77201820e-01 -1.49412255e-01  1.67050463e+00 -2.58786326e+00\n",
      "  2.04603295e-01  1.80753181e+00  5.75728160e-01  1.52677346e+01\n",
      "  3.86362557e-01  0.00000000e+00 -1.95864842e+00  3.95463245e+00\n",
      " -1.49683474e+00 -3.02550331e-01  3.83570213e+00 -1.01230659e+01\n",
      " -7.11192198e+00 -6.03753093e+00  3.58612063e+00 -5.15069427e+00\n",
      "  1.32442478e+00  3.96769574e+00 -1.41426247e-01 -2.02445516e+00\n",
      "  2.44955279e+00 -1.76573620e+00  1.34063857e+00  2.47581739e+00\n",
      " -1.01347922e+00 -3.58053107e+00  2.11819290e+00 -3.08202819e+00\n",
      " -1.93214017e-01  4.97210810e+00 -1.69686589e+00  3.92927096e+00\n",
      " -6.19555543e-01 -2.24447187e+00 -1.06524355e+00 -8.12621320e-01\n",
      " -1.42569679e+00  9.58846887e-01  1.27947122e+00 -4.13778009e-01\n",
      "  2.00621240e-01 -3.26061367e-01  5.39218137e-01]\n"
     ]
    }
   ],
   "source": [
    "# Ridge Regression\n",
    "from sklearn.linear_model import Ridge\n",
    "\n",
    "#initialise arrays to store the scores \n",
    "ridge_score_train = np.zeros(7)\n",
    "ridge_score_val = np.zeros(7)\n",
    "\n",
    "for i, C in enumerate((1000,100,10,1, 0.1, 0.01,0.001)):\n",
    "    ridge_regressor = Ridge(alpha=1/C, fit_intercept = True)\n",
    "    ridge_regressor.fit(X_train,y_train)\n",
    "    ridge_score_train[i] = ridge_regressor.score(X_train,y_train)\n",
    "    ridge_score_val[i] = ridge_regressor.score(X_val,y_val)\n",
    "    \n",
    "print('training score \\n', ridge_score_train)\n",
    "print('validation score \\n', ridge_score_val)\n",
    "\n",
    "best_ridge = Ridge(alpha = 1, fit_intercept = True)\n",
    "best_ridge.fit(X_train,y_train)\n",
    "y_pred = best_ridge.predict(X_val)\n",
    "print(mean_squared_error(y_val,y_pred))\n",
    "print(np.mean(y_val))\n",
    "\n",
    "print(best_ridge.coef_)"
   ]
  },
  {
   "cell_type": "code",
   "execution_count": 29,
   "metadata": {
    "scrolled": true
   },
   "outputs": [
    {
     "data": {
      "text/plain": [
       "Text(0.5,1,'Accuracy vs Lambda - Ridge Penalty')"
      ]
     },
     "execution_count": 29,
     "metadata": {},
     "output_type": "execute_result"
    },
    {
     "data": {
      "image/png": "[encoded data removed]",
      "text/plain": [
       "<Figure size 432x288 with 1 Axes>"
      ]
     },
     "metadata": {
      "needs_background": "light"
     },
     "output_type": "display_data"
    }
   ],
   "source": [
    "xaxis = [0.001,0.01,0.1,1,10,100,1000] #values of lambda used\n",
    "plt.plot(xaxis,ridge_score_train, label = 'training')\n",
    "plt.plot(xaxis,ridge_score_val, label = 'validation')\n",
    "plt.xlabel('lambda')\n",
    "plt.ylabel('score')\n",
    "plt.legend()\n",
    "plt.xscale('log')\n",
    "plt.title('Accuracy vs Lambda - Ridge Penalty')"
   ]
  },
  {
   "cell_type": "code",
   "execution_count": 30,
   "metadata": {
    "scrolled": true
   },
   "outputs": [
    {
     "name": "stderr",
     "output_type": "stream",
     "text": [
      "/home/jack/.virtualenvs/cs229/lib/python3.6/site-packages/sklearn/linear_model/coordinate_descent.py:475: ConvergenceWarning: Objective did not converge. You might want to increase the number of iterations. Duality gap: 142642.11338053714, tolerance: 100.72913028081433\n",
      "  positive)\n"
     ]
    },
    {
     "name": "stdout",
     "output_type": "stream",
     "text": [
      "training score \n",
      " [0.49057317 0.482041   0.44870825 0.34330584 0.         0.\n",
      " 0.        ]\n",
      "validation score \n",
      " [ 0.45273163  0.45458929  0.42456451  0.34166222 -0.00081468 -0.00081468\n",
      " -0.00081468]\n"
     ]
    }
   ],
   "source": [
    "# Lasso Regression\n",
    "from sklearn.linear_model import Lasso\n",
    "\n",
    "#initialise arrays to store the scores \n",
    "lasso_score_train = np.zeros(7)\n",
    "lasso_score_val = np.zeros(7)\n",
    "\n",
    "for i, C in enumerate((1000,100,10,1, 0.1, 0.01,0.001)):\n",
    "    lasso_regressor = Lasso(alpha=1/C, fit_intercept = True)\n",
    "    lasso_regressor.fit(X_train,y_train)\n",
    "    lasso_score_train[i] = lasso_regressor.score(X_train,y_train)\n",
    "    lasso_score_val[i] = lasso_regressor.score(X_val,y_val)\n",
    "    \n",
    "print('training score \\n', lasso_score_train)\n",
    "print('validation score \\n', lasso_score_val)"
   ]
  },
  {
   "cell_type": "code",
   "execution_count": 32,
   "metadata": {},
   "outputs": [],
   "source": [
    "import exp_util"
   ]
  },
  {
   "cell_type": "code",
   "execution_count": 39,
   "metadata": {},
   "outputs": [
    {
     "data": {
      "text/plain": [
       "0.672316384180791"
      ]
     },
     "execution_count": 39,
     "metadata": {},
     "output_type": "execute_result"
    }
   ],
   "source": [
    "exp_util.val_bin_accuracy(lr_regressor, X_val, y_val)"
   ]
  },
  {
   "cell_type": "code",
   "execution_count": 31,
   "metadata": {},
   "outputs": [
    {
     "data": {
      "text/plain": [
       "Text(0.5,1,'Accuracy vs Lambda - Ridge Penalty')"
      ]
     },
     "execution_count": 31,
     "metadata": {},
     "output_type": "execute_result"
    },
    {
     "data": {
      "image/png": "[encoded data removed]",
      "text/plain": [
       "<Figure size 432x288 with 1 Axes>"
      ]
     },
     "metadata": {
      "needs_background": "light"
     },
     "output_type": "display_data"
    }
   ],
   "source": [
    "xaxis = [0.001,0.01,0.1,1,10,100,1000] #values of lambda used\n",
    "plt.plot(xaxis,lasso_score_train, label = 'training')\n",
    "plt.plot(xaxis,lasso_score_val, label = 'validation')\n",
    "plt.xlabel('lambda')\n",
    "plt.ylabel('score')\n",
    "plt.legend()\n",
    "plt.xscale('log')\n",
    "plt.title('Accuracy vs Lambda - Ridge Penalty')"
   ]
  },
  {
   "cell_type": "code",
   "execution_count": null,
   "metadata": {},
   "outputs": [],
   "source": [
    "# non-nested cross validation using RBF SVM\n",
    "from sklearn.model_selection import GridSearchCV\n",
    "\n",
    "rbf = SVR(kernel='rbf')\n",
    "gammas = np.logspace(-6, 0, 7)\n",
    "params = {'gamma': gammas}\n",
    "gridcv = GridSearchCV(estimator=rbf, param_grid=params, cv=5)\n",
    "gridcv.fit(X_trainval, y_trainval)\n",
    "scores_mean = gridcv.cv_results_['mean_test_score']\n",
    "scores_sd = gridcv.cv_results_['std_test_score']\n",
    "print('highest accuracy score is',gridcv.best_score_)\n",
    "model = gridcv.best_estimator_"
   ]
  },
  {
   "cell_type": "code",
   "execution_count": null,
   "metadata": {},
   "outputs": [],
   "source": [
    "# non-nested cross validation using Ridge\n",
    "from sklearn.model_selection import GridSearchCV\n",
    "\n",
    "ridge_regressor = Ridge(fit_intercept = True)\n",
    "params={'alpha': [25,10,4,2,1.0,0.8,0.5,0.3,0.2,0.1,0.05,0.02,0.01]}\n",
    "\n",
    "gridcv = GridSearchCV(estimator=ridge_regressor, param_grid=params, cv=10)\n",
    "gridcv.fit(X_trainval, y_trainval)\n",
    "scores_mean = gridcv.cv_results_['mean_test_score']\n",
    "scores_sd = gridcv.cv_results_['std_test_score']\n",
    "print('highest accuracy score is',gridcv.best_score_)\n",
    "model = gridcv.best_estimator_"
   ]
  },
  {
   "cell_type": "code",
   "execution_count": null,
   "metadata": {},
   "outputs": [],
   "source": []
  }
 ],
 "metadata": {
  "kernelspec": {
   "display_name": "cs229",
   "language": "python",
   "name": "cs229"
  },
  "language_info": {
   "codemirror_mode": {
    "name": "ipython",
    "version": 3
   },
   "file_extension": ".py",
   "mimetype": "text/x-python",
   "name": "python",
   "nbconvert_exporter": "python",
   "pygments_lexer": "ipython3",
   "version": "3.6.8"
  }
 },
 "nbformat": 4,
 "nbformat_minor": 2
}
